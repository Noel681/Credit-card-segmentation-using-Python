{
 "cells": [
  {
   "cell_type": "code",
   "execution_count": 1,
   "metadata": {},
   "outputs": [
    {
     "name": "stderr",
     "output_type": "stream",
     "text": [
      "Using TensorFlow backend.\n"
     ]
    }
   ],
   "source": [
    "# loading the required libraries \n",
    "import pandas as pd\n",
    "import numpy as np\n",
    "import matplotlib.pyplot as plt\n",
    "import seaborn as sns\n",
    "import scipy.stats as stats\n",
    "from fancyimpute import KNN\n",
    "from sklearn import metrics\n",
    " \n",
    " "
   ]
  },
  {
   "cell_type": "code",
   "execution_count": 2,
   "metadata": {},
   "outputs": [],
   "source": [
    "# reading data into dataframe\n",
    "Orginal_data = pd.read_csv(\"C:/Users/Hp/Desktop/BLESSED 2/credit-card-data.csv\")"
   ]
  },
  {
   "cell_type": "code",
   "execution_count": 3,
   "metadata": {},
   "outputs": [],
   "source": [
    "h = Orginal_data.copy()"
   ]
  },
  {
   "cell_type": "code",
   "execution_count": 4,
   "metadata": {},
   "outputs": [
    {
     "name": "stdout",
     "output_type": "stream",
     "text": [
      "<class 'pandas.core.frame.DataFrame'>\n",
      "RangeIndex: 8950 entries, 0 to 8949\n",
      "Data columns (total 18 columns):\n",
      "CUST_ID                             8950 non-null object\n",
      "BALANCE                             8950 non-null float64\n",
      "BALANCE_FREQUENCY                   8950 non-null float64\n",
      "PURCHASES                           8950 non-null float64\n",
      "ONEOFF_PURCHASES                    8950 non-null float64\n",
      "INSTALLMENTS_PURCHASES              8950 non-null float64\n",
      "CASH_ADVANCE                        8950 non-null float64\n",
      "PURCHASES_FREQUENCY                 8950 non-null float64\n",
      "ONEOFF_PURCHASES_FREQUENCY          8950 non-null float64\n",
      "PURCHASES_INSTALLMENTS_FREQUENCY    8950 non-null float64\n",
      "CASH_ADVANCE_FREQUENCY              8950 non-null float64\n",
      "CASH_ADVANCE_TRX                    8950 non-null int64\n",
      "PURCHASES_TRX                       8950 non-null int64\n",
      "CREDIT_LIMIT                        8949 non-null float64\n",
      "PAYMENTS                            8950 non-null float64\n",
      "MINIMUM_PAYMENTS                    8637 non-null float64\n",
      "PRC_FULL_PAYMENT                    8950 non-null float64\n",
      "TENURE                              8950 non-null int64\n",
      "dtypes: float64(14), int64(3), object(1)\n",
      "memory usage: 1.2+ MB\n"
     ]
    }
   ],
   "source": [
    "h.info()"
   ]
  },
  {
   "cell_type": "code",
   "execution_count": 5,
   "metadata": {},
   "outputs": [
    {
     "data": {
      "text/plain": [
       "Index(['CUST_ID', 'BALANCE', 'BALANCE_FREQUENCY', 'PURCHASES',\n",
       "       'ONEOFF_PURCHASES', 'INSTALLMENTS_PURCHASES', 'CASH_ADVANCE',\n",
       "       'PURCHASES_FREQUENCY', 'ONEOFF_PURCHASES_FREQUENCY',\n",
       "       'PURCHASES_INSTALLMENTS_FREQUENCY', 'CASH_ADVANCE_FREQUENCY',\n",
       "       'CASH_ADVANCE_TRX', 'PURCHASES_TRX', 'CREDIT_LIMIT', 'PAYMENTS',\n",
       "       'MINIMUM_PAYMENTS', 'PRC_FULL_PAYMENT', 'TENURE'],\n",
       "      dtype='object')"
      ]
     },
     "execution_count": 5,
     "metadata": {},
     "output_type": "execute_result"
    }
   ],
   "source": [
    "h.columns"
   ]
  },
  {
   "cell_type": "code",
   "execution_count": 6,
   "metadata": {},
   "outputs": [
    {
     "data": {
      "text/plain": [
       "(8950, 18)"
      ]
     },
     "execution_count": 6,
     "metadata": {},
     "output_type": "execute_result"
    }
   ],
   "source": [
    "h.shape"
   ]
  },
  {
   "cell_type": "markdown",
   "metadata": {},
   "source": [
    "# Missing Value Analysis"
   ]
  },
  {
   "cell_type": "markdown",
   "metadata": {},
   "source": [
    "There are 3 techniques to find Missing Values.\n",
    "        1. Mean method\n",
    "        2. Median method\n",
    "        3. KNN method"
   ]
  },
  {
   "cell_type": "code",
   "execution_count": 116,
   "metadata": {},
   "outputs": [],
   "source": [
    "\n",
    "missing_val = pd.DataFrame(h.isnull().sum())"
   ]
  },
  {
   "cell_type": "code",
   "execution_count": 117,
   "metadata": {},
   "outputs": [
    {
     "data": {
      "text/html": [
       "<div>\n",
       "<style scoped>\n",
       "    .dataframe tbody tr th:only-of-type {\n",
       "        vertical-align: middle;\n",
       "    }\n",
       "\n",
       "    .dataframe tbody tr th {\n",
       "        vertical-align: top;\n",
       "    }\n",
       "\n",
       "    .dataframe thead th {\n",
       "        text-align: right;\n",
       "    }\n",
       "</style>\n",
       "<table border=\"1\" class=\"dataframe\">\n",
       "  <thead>\n",
       "    <tr style=\"text-align: right;\">\n",
       "      <th></th>\n",
       "      <th>0</th>\n",
       "    </tr>\n",
       "  </thead>\n",
       "  <tbody>\n",
       "    <tr>\n",
       "      <th>CUST_ID</th>\n",
       "      <td>0</td>\n",
       "    </tr>\n",
       "    <tr>\n",
       "      <th>BALANCE</th>\n",
       "      <td>0</td>\n",
       "    </tr>\n",
       "    <tr>\n",
       "      <th>BALANCE_FREQUENCY</th>\n",
       "      <td>0</td>\n",
       "    </tr>\n",
       "    <tr>\n",
       "      <th>PURCHASES</th>\n",
       "      <td>0</td>\n",
       "    </tr>\n",
       "    <tr>\n",
       "      <th>ONEOFF_PURCHASES</th>\n",
       "      <td>0</td>\n",
       "    </tr>\n",
       "    <tr>\n",
       "      <th>INSTALLMENTS_PURCHASES</th>\n",
       "      <td>0</td>\n",
       "    </tr>\n",
       "    <tr>\n",
       "      <th>CASH_ADVANCE</th>\n",
       "      <td>0</td>\n",
       "    </tr>\n",
       "    <tr>\n",
       "      <th>PURCHASES_FREQUENCY</th>\n",
       "      <td>0</td>\n",
       "    </tr>\n",
       "    <tr>\n",
       "      <th>ONEOFF_PURCHASES_FREQUENCY</th>\n",
       "      <td>0</td>\n",
       "    </tr>\n",
       "    <tr>\n",
       "      <th>PURCHASES_INSTALLMENTS_FREQUENCY</th>\n",
       "      <td>0</td>\n",
       "    </tr>\n",
       "    <tr>\n",
       "      <th>CASH_ADVANCE_FREQUENCY</th>\n",
       "      <td>0</td>\n",
       "    </tr>\n",
       "    <tr>\n",
       "      <th>CASH_ADVANCE_TRX</th>\n",
       "      <td>0</td>\n",
       "    </tr>\n",
       "    <tr>\n",
       "      <th>PURCHASES_TRX</th>\n",
       "      <td>0</td>\n",
       "    </tr>\n",
       "    <tr>\n",
       "      <th>CREDIT_LIMIT</th>\n",
       "      <td>1</td>\n",
       "    </tr>\n",
       "    <tr>\n",
       "      <th>PAYMENTS</th>\n",
       "      <td>0</td>\n",
       "    </tr>\n",
       "    <tr>\n",
       "      <th>MINIMUM_PAYMENTS</th>\n",
       "      <td>313</td>\n",
       "    </tr>\n",
       "    <tr>\n",
       "      <th>PRC_FULL_PAYMENT</th>\n",
       "      <td>0</td>\n",
       "    </tr>\n",
       "    <tr>\n",
       "      <th>TENURE</th>\n",
       "      <td>0</td>\n",
       "    </tr>\n",
       "  </tbody>\n",
       "</table>\n",
       "</div>"
      ],
      "text/plain": [
       "                                    0\n",
       "CUST_ID                             0\n",
       "BALANCE                             0\n",
       "BALANCE_FREQUENCY                   0\n",
       "PURCHASES                           0\n",
       "ONEOFF_PURCHASES                    0\n",
       "INSTALLMENTS_PURCHASES              0\n",
       "CASH_ADVANCE                        0\n",
       "PURCHASES_FREQUENCY                 0\n",
       "ONEOFF_PURCHASES_FREQUENCY          0\n",
       "PURCHASES_INSTALLMENTS_FREQUENCY    0\n",
       "CASH_ADVANCE_FREQUENCY              0\n",
       "CASH_ADVANCE_TRX                    0\n",
       "PURCHASES_TRX                       0\n",
       "CREDIT_LIMIT                        1\n",
       "PAYMENTS                            0\n",
       "MINIMUM_PAYMENTS                  313\n",
       "PRC_FULL_PAYMENT                    0\n",
       "TENURE                              0"
      ]
     },
     "execution_count": 117,
     "metadata": {},
     "output_type": "execute_result"
    }
   ],
   "source": [
    "missing_val"
   ]
  },
  {
   "cell_type": "code",
   "execution_count": 118,
   "metadata": {},
   "outputs": [
    {
     "data": {
      "text/html": [
       "<div>\n",
       "<style scoped>\n",
       "    .dataframe tbody tr th:only-of-type {\n",
       "        vertical-align: middle;\n",
       "    }\n",
       "\n",
       "    .dataframe tbody tr th {\n",
       "        vertical-align: top;\n",
       "    }\n",
       "\n",
       "    .dataframe thead th {\n",
       "        text-align: right;\n",
       "    }\n",
       "</style>\n",
       "<table border=\"1\" class=\"dataframe\">\n",
       "  <thead>\n",
       "    <tr style=\"text-align: right;\">\n",
       "      <th></th>\n",
       "      <th>index</th>\n",
       "      <th>0</th>\n",
       "    </tr>\n",
       "  </thead>\n",
       "  <tbody>\n",
       "    <tr>\n",
       "      <th>0</th>\n",
       "      <td>CUST_ID</td>\n",
       "      <td>0</td>\n",
       "    </tr>\n",
       "    <tr>\n",
       "      <th>1</th>\n",
       "      <td>BALANCE</td>\n",
       "      <td>0</td>\n",
       "    </tr>\n",
       "    <tr>\n",
       "      <th>2</th>\n",
       "      <td>BALANCE_FREQUENCY</td>\n",
       "      <td>0</td>\n",
       "    </tr>\n",
       "    <tr>\n",
       "      <th>3</th>\n",
       "      <td>PURCHASES</td>\n",
       "      <td>0</td>\n",
       "    </tr>\n",
       "    <tr>\n",
       "      <th>4</th>\n",
       "      <td>ONEOFF_PURCHASES</td>\n",
       "      <td>0</td>\n",
       "    </tr>\n",
       "    <tr>\n",
       "      <th>5</th>\n",
       "      <td>INSTALLMENTS_PURCHASES</td>\n",
       "      <td>0</td>\n",
       "    </tr>\n",
       "    <tr>\n",
       "      <th>6</th>\n",
       "      <td>CASH_ADVANCE</td>\n",
       "      <td>0</td>\n",
       "    </tr>\n",
       "    <tr>\n",
       "      <th>7</th>\n",
       "      <td>PURCHASES_FREQUENCY</td>\n",
       "      <td>0</td>\n",
       "    </tr>\n",
       "    <tr>\n",
       "      <th>8</th>\n",
       "      <td>ONEOFF_PURCHASES_FREQUENCY</td>\n",
       "      <td>0</td>\n",
       "    </tr>\n",
       "    <tr>\n",
       "      <th>9</th>\n",
       "      <td>PURCHASES_INSTALLMENTS_FREQUENCY</td>\n",
       "      <td>0</td>\n",
       "    </tr>\n",
       "    <tr>\n",
       "      <th>10</th>\n",
       "      <td>CASH_ADVANCE_FREQUENCY</td>\n",
       "      <td>0</td>\n",
       "    </tr>\n",
       "    <tr>\n",
       "      <th>11</th>\n",
       "      <td>CASH_ADVANCE_TRX</td>\n",
       "      <td>0</td>\n",
       "    </tr>\n",
       "    <tr>\n",
       "      <th>12</th>\n",
       "      <td>PURCHASES_TRX</td>\n",
       "      <td>0</td>\n",
       "    </tr>\n",
       "    <tr>\n",
       "      <th>13</th>\n",
       "      <td>CREDIT_LIMIT</td>\n",
       "      <td>1</td>\n",
       "    </tr>\n",
       "    <tr>\n",
       "      <th>14</th>\n",
       "      <td>PAYMENTS</td>\n",
       "      <td>0</td>\n",
       "    </tr>\n",
       "    <tr>\n",
       "      <th>15</th>\n",
       "      <td>MINIMUM_PAYMENTS</td>\n",
       "      <td>313</td>\n",
       "    </tr>\n",
       "    <tr>\n",
       "      <th>16</th>\n",
       "      <td>PRC_FULL_PAYMENT</td>\n",
       "      <td>0</td>\n",
       "    </tr>\n",
       "    <tr>\n",
       "      <th>17</th>\n",
       "      <td>TENURE</td>\n",
       "      <td>0</td>\n",
       "    </tr>\n",
       "  </tbody>\n",
       "</table>\n",
       "</div>"
      ],
      "text/plain": [
       "                               index    0\n",
       "0                            CUST_ID    0\n",
       "1                            BALANCE    0\n",
       "2                  BALANCE_FREQUENCY    0\n",
       "3                          PURCHASES    0\n",
       "4                   ONEOFF_PURCHASES    0\n",
       "5             INSTALLMENTS_PURCHASES    0\n",
       "6                       CASH_ADVANCE    0\n",
       "7                PURCHASES_FREQUENCY    0\n",
       "8         ONEOFF_PURCHASES_FREQUENCY    0\n",
       "9   PURCHASES_INSTALLMENTS_FREQUENCY    0\n",
       "10            CASH_ADVANCE_FREQUENCY    0\n",
       "11                  CASH_ADVANCE_TRX    0\n",
       "12                     PURCHASES_TRX    0\n",
       "13                      CREDIT_LIMIT    1\n",
       "14                          PAYMENTS    0\n",
       "15                  MINIMUM_PAYMENTS  313\n",
       "16                  PRC_FULL_PAYMENT    0\n",
       "17                            TENURE    0"
      ]
     },
     "execution_count": 118,
     "metadata": {},
     "output_type": "execute_result"
    }
   ],
   "source": [
    "missing_val = missing_val.reset_index()\n",
    "missing_val"
   ]
  },
  {
   "cell_type": "code",
   "execution_count": 119,
   "metadata": {},
   "outputs": [
    {
     "data": {
      "text/html": [
       "<div>\n",
       "<style scoped>\n",
       "    .dataframe tbody tr th:only-of-type {\n",
       "        vertical-align: middle;\n",
       "    }\n",
       "\n",
       "    .dataframe tbody tr th {\n",
       "        vertical-align: top;\n",
       "    }\n",
       "\n",
       "    .dataframe thead th {\n",
       "        text-align: right;\n",
       "    }\n",
       "</style>\n",
       "<table border=\"1\" class=\"dataframe\">\n",
       "  <thead>\n",
       "    <tr style=\"text-align: right;\">\n",
       "      <th></th>\n",
       "      <th>Variables</th>\n",
       "      <th>Missing_percentage</th>\n",
       "    </tr>\n",
       "  </thead>\n",
       "  <tbody>\n",
       "    <tr>\n",
       "      <th>0</th>\n",
       "      <td>CUST_ID</td>\n",
       "      <td>0</td>\n",
       "    </tr>\n",
       "    <tr>\n",
       "      <th>1</th>\n",
       "      <td>BALANCE</td>\n",
       "      <td>0</td>\n",
       "    </tr>\n",
       "    <tr>\n",
       "      <th>2</th>\n",
       "      <td>BALANCE_FREQUENCY</td>\n",
       "      <td>0</td>\n",
       "    </tr>\n",
       "    <tr>\n",
       "      <th>3</th>\n",
       "      <td>PURCHASES</td>\n",
       "      <td>0</td>\n",
       "    </tr>\n",
       "    <tr>\n",
       "      <th>4</th>\n",
       "      <td>ONEOFF_PURCHASES</td>\n",
       "      <td>0</td>\n",
       "    </tr>\n",
       "    <tr>\n",
       "      <th>5</th>\n",
       "      <td>INSTALLMENTS_PURCHASES</td>\n",
       "      <td>0</td>\n",
       "    </tr>\n",
       "    <tr>\n",
       "      <th>6</th>\n",
       "      <td>CASH_ADVANCE</td>\n",
       "      <td>0</td>\n",
       "    </tr>\n",
       "    <tr>\n",
       "      <th>7</th>\n",
       "      <td>PURCHASES_FREQUENCY</td>\n",
       "      <td>0</td>\n",
       "    </tr>\n",
       "    <tr>\n",
       "      <th>8</th>\n",
       "      <td>ONEOFF_PURCHASES_FREQUENCY</td>\n",
       "      <td>0</td>\n",
       "    </tr>\n",
       "    <tr>\n",
       "      <th>9</th>\n",
       "      <td>PURCHASES_INSTALLMENTS_FREQUENCY</td>\n",
       "      <td>0</td>\n",
       "    </tr>\n",
       "    <tr>\n",
       "      <th>10</th>\n",
       "      <td>CASH_ADVANCE_FREQUENCY</td>\n",
       "      <td>0</td>\n",
       "    </tr>\n",
       "    <tr>\n",
       "      <th>11</th>\n",
       "      <td>CASH_ADVANCE_TRX</td>\n",
       "      <td>0</td>\n",
       "    </tr>\n",
       "    <tr>\n",
       "      <th>12</th>\n",
       "      <td>PURCHASES_TRX</td>\n",
       "      <td>0</td>\n",
       "    </tr>\n",
       "    <tr>\n",
       "      <th>13</th>\n",
       "      <td>CREDIT_LIMIT</td>\n",
       "      <td>1</td>\n",
       "    </tr>\n",
       "    <tr>\n",
       "      <th>14</th>\n",
       "      <td>PAYMENTS</td>\n",
       "      <td>0</td>\n",
       "    </tr>\n",
       "    <tr>\n",
       "      <th>15</th>\n",
       "      <td>MINIMUM_PAYMENTS</td>\n",
       "      <td>313</td>\n",
       "    </tr>\n",
       "    <tr>\n",
       "      <th>16</th>\n",
       "      <td>PRC_FULL_PAYMENT</td>\n",
       "      <td>0</td>\n",
       "    </tr>\n",
       "    <tr>\n",
       "      <th>17</th>\n",
       "      <td>TENURE</td>\n",
       "      <td>0</td>\n",
       "    </tr>\n",
       "  </tbody>\n",
       "</table>\n",
       "</div>"
      ],
      "text/plain": [
       "                           Variables  Missing_percentage\n",
       "0                            CUST_ID                   0\n",
       "1                            BALANCE                   0\n",
       "2                  BALANCE_FREQUENCY                   0\n",
       "3                          PURCHASES                   0\n",
       "4                   ONEOFF_PURCHASES                   0\n",
       "5             INSTALLMENTS_PURCHASES                   0\n",
       "6                       CASH_ADVANCE                   0\n",
       "7                PURCHASES_FREQUENCY                   0\n",
       "8         ONEOFF_PURCHASES_FREQUENCY                   0\n",
       "9   PURCHASES_INSTALLMENTS_FREQUENCY                   0\n",
       "10            CASH_ADVANCE_FREQUENCY                   0\n",
       "11                  CASH_ADVANCE_TRX                   0\n",
       "12                     PURCHASES_TRX                   0\n",
       "13                      CREDIT_LIMIT                   1\n",
       "14                          PAYMENTS                   0\n",
       "15                  MINIMUM_PAYMENTS                 313\n",
       "16                  PRC_FULL_PAYMENT                   0\n",
       "17                            TENURE                   0"
      ]
     },
     "execution_count": 119,
     "metadata": {},
     "output_type": "execute_result"
    }
   ],
   "source": [
    "missing_val = missing_val.rename(columns = {'index': 'Variables', 0: 'Missing_percentage'})\n",
    "missing_val"
   ]
  },
  {
   "cell_type": "code",
   "execution_count": 120,
   "metadata": {},
   "outputs": [
    {
     "data": {
      "text/html": [
       "<div>\n",
       "<style scoped>\n",
       "    .dataframe tbody tr th:only-of-type {\n",
       "        vertical-align: middle;\n",
       "    }\n",
       "\n",
       "    .dataframe tbody tr th {\n",
       "        vertical-align: top;\n",
       "    }\n",
       "\n",
       "    .dataframe thead th {\n",
       "        text-align: right;\n",
       "    }\n",
       "</style>\n",
       "<table border=\"1\" class=\"dataframe\">\n",
       "  <thead>\n",
       "    <tr style=\"text-align: right;\">\n",
       "      <th></th>\n",
       "      <th>Variables</th>\n",
       "      <th>Missing_percentage</th>\n",
       "    </tr>\n",
       "  </thead>\n",
       "  <tbody>\n",
       "    <tr>\n",
       "      <th>0</th>\n",
       "      <td>CUST_ID</td>\n",
       "      <td>0.000000</td>\n",
       "    </tr>\n",
       "    <tr>\n",
       "      <th>1</th>\n",
       "      <td>BALANCE</td>\n",
       "      <td>0.000000</td>\n",
       "    </tr>\n",
       "    <tr>\n",
       "      <th>2</th>\n",
       "      <td>BALANCE_FREQUENCY</td>\n",
       "      <td>0.000000</td>\n",
       "    </tr>\n",
       "    <tr>\n",
       "      <th>3</th>\n",
       "      <td>PURCHASES</td>\n",
       "      <td>0.000000</td>\n",
       "    </tr>\n",
       "    <tr>\n",
       "      <th>4</th>\n",
       "      <td>ONEOFF_PURCHASES</td>\n",
       "      <td>0.000000</td>\n",
       "    </tr>\n",
       "    <tr>\n",
       "      <th>5</th>\n",
       "      <td>INSTALLMENTS_PURCHASES</td>\n",
       "      <td>0.000000</td>\n",
       "    </tr>\n",
       "    <tr>\n",
       "      <th>6</th>\n",
       "      <td>CASH_ADVANCE</td>\n",
       "      <td>0.000000</td>\n",
       "    </tr>\n",
       "    <tr>\n",
       "      <th>7</th>\n",
       "      <td>PURCHASES_FREQUENCY</td>\n",
       "      <td>0.000000</td>\n",
       "    </tr>\n",
       "    <tr>\n",
       "      <th>8</th>\n",
       "      <td>ONEOFF_PURCHASES_FREQUENCY</td>\n",
       "      <td>0.000000</td>\n",
       "    </tr>\n",
       "    <tr>\n",
       "      <th>9</th>\n",
       "      <td>PURCHASES_INSTALLMENTS_FREQUENCY</td>\n",
       "      <td>0.000000</td>\n",
       "    </tr>\n",
       "    <tr>\n",
       "      <th>10</th>\n",
       "      <td>CASH_ADVANCE_FREQUENCY</td>\n",
       "      <td>0.000000</td>\n",
       "    </tr>\n",
       "    <tr>\n",
       "      <th>11</th>\n",
       "      <td>CASH_ADVANCE_TRX</td>\n",
       "      <td>0.000000</td>\n",
       "    </tr>\n",
       "    <tr>\n",
       "      <th>12</th>\n",
       "      <td>PURCHASES_TRX</td>\n",
       "      <td>0.000000</td>\n",
       "    </tr>\n",
       "    <tr>\n",
       "      <th>13</th>\n",
       "      <td>CREDIT_LIMIT</td>\n",
       "      <td>0.011173</td>\n",
       "    </tr>\n",
       "    <tr>\n",
       "      <th>14</th>\n",
       "      <td>PAYMENTS</td>\n",
       "      <td>0.000000</td>\n",
       "    </tr>\n",
       "    <tr>\n",
       "      <th>15</th>\n",
       "      <td>MINIMUM_PAYMENTS</td>\n",
       "      <td>3.497207</td>\n",
       "    </tr>\n",
       "    <tr>\n",
       "      <th>16</th>\n",
       "      <td>PRC_FULL_PAYMENT</td>\n",
       "      <td>0.000000</td>\n",
       "    </tr>\n",
       "    <tr>\n",
       "      <th>17</th>\n",
       "      <td>TENURE</td>\n",
       "      <td>0.000000</td>\n",
       "    </tr>\n",
       "  </tbody>\n",
       "</table>\n",
       "</div>"
      ],
      "text/plain": [
       "                           Variables  Missing_percentage\n",
       "0                            CUST_ID            0.000000\n",
       "1                            BALANCE            0.000000\n",
       "2                  BALANCE_FREQUENCY            0.000000\n",
       "3                          PURCHASES            0.000000\n",
       "4                   ONEOFF_PURCHASES            0.000000\n",
       "5             INSTALLMENTS_PURCHASES            0.000000\n",
       "6                       CASH_ADVANCE            0.000000\n",
       "7                PURCHASES_FREQUENCY            0.000000\n",
       "8         ONEOFF_PURCHASES_FREQUENCY            0.000000\n",
       "9   PURCHASES_INSTALLMENTS_FREQUENCY            0.000000\n",
       "10            CASH_ADVANCE_FREQUENCY            0.000000\n",
       "11                  CASH_ADVANCE_TRX            0.000000\n",
       "12                     PURCHASES_TRX            0.000000\n",
       "13                      CREDIT_LIMIT            0.011173\n",
       "14                          PAYMENTS            0.000000\n",
       "15                  MINIMUM_PAYMENTS            3.497207\n",
       "16                  PRC_FULL_PAYMENT            0.000000\n",
       "17                            TENURE            0.000000"
      ]
     },
     "execution_count": 120,
     "metadata": {},
     "output_type": "execute_result"
    }
   ],
   "source": [
    "missing_val['Missing_percentage'] = (missing_val['Missing_percentage']/len(h))*100\n",
    "missing_val"
   ]
  },
  {
   "cell_type": "code",
   "execution_count": 121,
   "metadata": {},
   "outputs": [
    {
     "data": {
      "text/plain": [
       "1464.324632"
      ]
     },
     "execution_count": 121,
     "metadata": {},
     "output_type": "execute_result"
    }
   ],
   "source": [
    "h['BALANCE'].loc[121] # actual value = 1464.324632"
   ]
  },
  {
   "cell_type": "code",
   "execution_count": 122,
   "metadata": {},
   "outputs": [],
   "source": [
    "k = h.copy()"
   ]
  },
  {
   "cell_type": "code",
   "execution_count": 123,
   "metadata": {},
   "outputs": [],
   "source": [
    "k['BALANCE'].loc[121] = np.nan"
   ]
  },
  {
   "cell_type": "code",
   "execution_count": 124,
   "metadata": {},
   "outputs": [
    {
     "data": {
      "text/plain": [
       "1564.4860188945165"
      ]
     },
     "execution_count": 124,
     "metadata": {},
     "output_type": "execute_result"
    }
   ],
   "source": [
    "# Impute with mean\n",
    "k['BALANCE'].fillna(k['BALANCE'].mean()).loc[121] # mean value = 1564.4860188945165"
   ]
  },
  {
   "cell_type": "code",
   "execution_count": 125,
   "metadata": {},
   "outputs": [
    {
     "data": {
      "text/plain": [
       "873.090183"
      ]
     },
     "execution_count": 125,
     "metadata": {},
     "output_type": "execute_result"
    }
   ],
   "source": [
    "# Impute with median\n",
    "k['BALANCE'].fillna(k['BALANCE'].median()).loc[121] # median value = 873.090183"
   ]
  },
  {
   "cell_type": "code",
   "execution_count": 126,
   "metadata": {},
   "outputs": [
    {
     "data": {
      "text/plain": [
       "(8950, 18)"
      ]
     },
     "execution_count": 126,
     "metadata": {},
     "output_type": "execute_result"
    }
   ],
   "source": [
    "k.shape"
   ]
  },
  {
   "cell_type": "code",
   "execution_count": 127,
   "metadata": {},
   "outputs": [],
   "source": [
    "columns = ['BALANCE','BALANCE_FREQUENCY','PURCHASES','ONEOFF_PURCHASES','INSTALLMENTS_PURCHASES','CASH_ADVANCE','PURCHASES_FREQUENCY','ONEOFF_PURCHASES_FREQUENCY','PURCHASES_INSTALLMENTS_FREQUENCY','CASH_ADVANCE_FREQUENCY','CASH_ADVANCE_TRX','PURCHASES_TRX','CREDIT_LIMIT','PAYMENTS','MINIMUM_PAYMENTS','PRC_FULL_PAYMENT','TENURE',]"
   ]
  },
  {
   "cell_type": "code",
   "execution_count": 128,
   "metadata": {},
   "outputs": [
    {
     "name": "stdout",
     "output_type": "stream",
     "text": [
      "Imputing row 1/8950 with 0 missing, elapsed time: 13.411\n",
      "Imputing row 101/8950 with 0 missing, elapsed time: 13.427\n",
      "Imputing row 201/8950 with 0 missing, elapsed time: 13.427\n",
      "Imputing row 301/8950 with 0 missing, elapsed time: 13.427\n",
      "Imputing row 401/8950 with 0 missing, elapsed time: 13.427\n",
      "Imputing row 501/8950 with 0 missing, elapsed time: 13.427\n",
      "Imputing row 601/8950 with 0 missing, elapsed time: 13.427\n",
      "Imputing row 701/8950 with 0 missing, elapsed time: 13.427\n",
      "Imputing row 801/8950 with 0 missing, elapsed time: 13.427\n",
      "Imputing row 901/8950 with 0 missing, elapsed time: 13.427\n",
      "Imputing row 1001/8950 with 0 missing, elapsed time: 13.427\n",
      "Imputing row 1101/8950 with 0 missing, elapsed time: 13.442\n",
      "Imputing row 1201/8950 with 0 missing, elapsed time: 13.442\n",
      "Imputing row 1301/8950 with 0 missing, elapsed time: 13.442\n",
      "Imputing row 1401/8950 with 0 missing, elapsed time: 13.442\n",
      "Imputing row 1501/8950 with 0 missing, elapsed time: 13.442\n",
      "Imputing row 1601/8950 with 0 missing, elapsed time: 13.442\n",
      "Imputing row 1701/8950 with 0 missing, elapsed time: 13.442\n",
      "Imputing row 1801/8950 with 0 missing, elapsed time: 13.442\n",
      "Imputing row 1901/8950 with 0 missing, elapsed time: 13.442\n",
      "Imputing row 2001/8950 with 0 missing, elapsed time: 13.442\n",
      "Imputing row 2101/8950 with 0 missing, elapsed time: 13.442\n",
      "Imputing row 2201/8950 with 0 missing, elapsed time: 13.442\n",
      "Imputing row 2301/8950 with 0 missing, elapsed time: 13.442\n",
      "Imputing row 2401/8950 with 0 missing, elapsed time: 13.442\n",
      "Imputing row 2501/8950 with 0 missing, elapsed time: 13.442\n",
      "Imputing row 2601/8950 with 0 missing, elapsed time: 13.442\n",
      "Imputing row 2701/8950 with 0 missing, elapsed time: 13.442\n",
      "Imputing row 2801/8950 with 0 missing, elapsed time: 13.442\n",
      "Imputing row 2901/8950 with 0 missing, elapsed time: 13.442\n",
      "Imputing row 3001/8950 with 0 missing, elapsed time: 13.442\n",
      "Imputing row 3101/8950 with 0 missing, elapsed time: 13.442\n",
      "Imputing row 3201/8950 with 0 missing, elapsed time: 13.442\n",
      "Imputing row 3301/8950 with 0 missing, elapsed time: 13.442\n",
      "Imputing row 3401/8950 with 0 missing, elapsed time: 13.442\n",
      "Imputing row 3501/8950 with 0 missing, elapsed time: 13.442\n",
      "Imputing row 3601/8950 with 0 missing, elapsed time: 13.442\n",
      "Imputing row 3701/8950 with 0 missing, elapsed time: 13.442\n",
      "Imputing row 3801/8950 with 0 missing, elapsed time: 13.442\n",
      "Imputing row 3901/8950 with 0 missing, elapsed time: 13.442\n",
      "Imputing row 4001/8950 with 0 missing, elapsed time: 13.442\n",
      "Imputing row 4101/8950 with 0 missing, elapsed time: 13.458\n",
      "Imputing row 4201/8950 with 0 missing, elapsed time: 13.458\n",
      "Imputing row 4301/8950 with 0 missing, elapsed time: 13.458\n",
      "Imputing row 4401/8950 with 0 missing, elapsed time: 13.458\n",
      "Imputing row 4501/8950 with 0 missing, elapsed time: 13.458\n",
      "Imputing row 4601/8950 with 1 missing, elapsed time: 13.458\n",
      "Imputing row 4701/8950 with 0 missing, elapsed time: 13.458\n",
      "Imputing row 4801/8950 with 1 missing, elapsed time: 13.458\n",
      "Imputing row 4901/8950 with 0 missing, elapsed time: 13.458\n",
      "Imputing row 5001/8950 with 1 missing, elapsed time: 13.458\n",
      "Imputing row 5101/8950 with 0 missing, elapsed time: 13.458\n",
      "Imputing row 5201/8950 with 0 missing, elapsed time: 13.458\n",
      "Imputing row 5301/8950 with 0 missing, elapsed time: 13.458\n",
      "Imputing row 5401/8950 with 0 missing, elapsed time: 13.458\n",
      "Imputing row 5501/8950 with 0 missing, elapsed time: 13.458\n",
      "Imputing row 5601/8950 with 0 missing, elapsed time: 13.458\n",
      "Imputing row 5701/8950 with 0 missing, elapsed time: 13.458\n",
      "Imputing row 5801/8950 with 0 missing, elapsed time: 13.458\n",
      "Imputing row 5901/8950 with 0 missing, elapsed time: 13.458\n",
      "Imputing row 6001/8950 with 0 missing, elapsed time: 13.458\n",
      "Imputing row 6101/8950 with 0 missing, elapsed time: 13.458\n",
      "Imputing row 6201/8950 with 0 missing, elapsed time: 13.458\n",
      "Imputing row 6301/8950 with 0 missing, elapsed time: 13.458\n",
      "Imputing row 6401/8950 with 0 missing, elapsed time: 13.458\n",
      "Imputing row 6501/8950 with 0 missing, elapsed time: 13.458\n",
      "Imputing row 6601/8950 with 0 missing, elapsed time: 13.458\n",
      "Imputing row 6701/8950 with 0 missing, elapsed time: 13.458\n",
      "Imputing row 6801/8950 with 0 missing, elapsed time: 13.458\n",
      "Imputing row 6901/8950 with 0 missing, elapsed time: 13.458\n",
      "Imputing row 7001/8950 with 0 missing, elapsed time: 13.473\n",
      "Imputing row 7101/8950 with 0 missing, elapsed time: 13.473\n",
      "Imputing row 7201/8950 with 0 missing, elapsed time: 13.473\n",
      "Imputing row 7301/8950 with 1 missing, elapsed time: 13.473\n",
      "Imputing row 7401/8950 with 0 missing, elapsed time: 13.473\n",
      "Imputing row 7501/8950 with 0 missing, elapsed time: 13.473\n",
      "Imputing row 7601/8950 with 0 missing, elapsed time: 13.473\n",
      "Imputing row 7701/8950 with 0 missing, elapsed time: 13.473\n",
      "Imputing row 7801/8950 with 1 missing, elapsed time: 13.473\n",
      "Imputing row 7901/8950 with 0 missing, elapsed time: 13.473\n",
      "Imputing row 8001/8950 with 1 missing, elapsed time: 13.473\n",
      "Imputing row 8101/8950 with 0 missing, elapsed time: 13.473\n",
      "Imputing row 8201/8950 with 0 missing, elapsed time: 13.473\n",
      "Imputing row 8301/8950 with 0 missing, elapsed time: 13.473\n",
      "Imputing row 8401/8950 with 1 missing, elapsed time: 13.473\n",
      "Imputing row 8501/8950 with 1 missing, elapsed time: 13.473\n",
      "Imputing row 8601/8950 with 0 missing, elapsed time: 13.473\n",
      "Imputing row 8701/8950 with 0 missing, elapsed time: 13.473\n",
      "Imputing row 8801/8950 with 0 missing, elapsed time: 13.473\n",
      "Imputing row 8901/8950 with 0 missing, elapsed time: 13.473\n"
     ]
    }
   ],
   "source": [
    "k = pd.DataFrame(KNN(k = 19).fit_transform(k.drop('CUST_ID',axis=1)),columns=columns, index=k.index)"
   ]
  },
  {
   "cell_type": "code",
   "execution_count": 129,
   "metadata": {},
   "outputs": [
    {
     "data": {
      "text/plain": [
       "1464.324632"
      ]
     },
     "execution_count": 129,
     "metadata": {},
     "output_type": "execute_result"
    }
   ],
   "source": [
    "h['BALANCE'].loc[121]"
   ]
  },
  {
   "cell_type": "markdown",
   "metadata": {},
   "source": [
    "Here we can use knn for finding missing values but knn works only on numerical variables but we have a variable with \n",
    " datatype value factor , we can convert them into numeric but as we are doing clustering, we are not supposed to do that.so, we are going for median."
   ]
  },
  {
   "cell_type": "code",
   "execution_count": 130,
   "metadata": {},
   "outputs": [
    {
     "data": {
      "text/plain": [
       "(8950, 18)"
      ]
     },
     "execution_count": 130,
     "metadata": {},
     "output_type": "execute_result"
    }
   ],
   "source": [
    "h.shape"
   ]
  },
  {
   "cell_type": "code",
   "execution_count": 7,
   "metadata": {},
   "outputs": [],
   "source": [
    "h['CREDIT_LIMIT'].fillna(h['CREDIT_LIMIT'].median(),inplace=True)\n",
    "h['MINIMUM_PAYMENTS'].fillna(h['MINIMUM_PAYMENTS'].median(),inplace=True)"
   ]
  },
  {
   "cell_type": "code",
   "execution_count": 8,
   "metadata": {},
   "outputs": [
    {
     "data": {
      "text/html": [
       "<div>\n",
       "<style scoped>\n",
       "    .dataframe tbody tr th:only-of-type {\n",
       "        vertical-align: middle;\n",
       "    }\n",
       "\n",
       "    .dataframe tbody tr th {\n",
       "        vertical-align: top;\n",
       "    }\n",
       "\n",
       "    .dataframe thead th {\n",
       "        text-align: right;\n",
       "    }\n",
       "</style>\n",
       "<table border=\"1\" class=\"dataframe\">\n",
       "  <thead>\n",
       "    <tr style=\"text-align: right;\">\n",
       "      <th></th>\n",
       "      <th>0</th>\n",
       "    </tr>\n",
       "  </thead>\n",
       "  <tbody>\n",
       "    <tr>\n",
       "      <th>CUST_ID</th>\n",
       "      <td>0</td>\n",
       "    </tr>\n",
       "    <tr>\n",
       "      <th>BALANCE</th>\n",
       "      <td>0</td>\n",
       "    </tr>\n",
       "    <tr>\n",
       "      <th>BALANCE_FREQUENCY</th>\n",
       "      <td>0</td>\n",
       "    </tr>\n",
       "    <tr>\n",
       "      <th>PURCHASES</th>\n",
       "      <td>0</td>\n",
       "    </tr>\n",
       "    <tr>\n",
       "      <th>ONEOFF_PURCHASES</th>\n",
       "      <td>0</td>\n",
       "    </tr>\n",
       "    <tr>\n",
       "      <th>INSTALLMENTS_PURCHASES</th>\n",
       "      <td>0</td>\n",
       "    </tr>\n",
       "    <tr>\n",
       "      <th>CASH_ADVANCE</th>\n",
       "      <td>0</td>\n",
       "    </tr>\n",
       "    <tr>\n",
       "      <th>PURCHASES_FREQUENCY</th>\n",
       "      <td>0</td>\n",
       "    </tr>\n",
       "    <tr>\n",
       "      <th>ONEOFF_PURCHASES_FREQUENCY</th>\n",
       "      <td>0</td>\n",
       "    </tr>\n",
       "    <tr>\n",
       "      <th>PURCHASES_INSTALLMENTS_FREQUENCY</th>\n",
       "      <td>0</td>\n",
       "    </tr>\n",
       "    <tr>\n",
       "      <th>CASH_ADVANCE_FREQUENCY</th>\n",
       "      <td>0</td>\n",
       "    </tr>\n",
       "    <tr>\n",
       "      <th>CASH_ADVANCE_TRX</th>\n",
       "      <td>0</td>\n",
       "    </tr>\n",
       "    <tr>\n",
       "      <th>PURCHASES_TRX</th>\n",
       "      <td>0</td>\n",
       "    </tr>\n",
       "    <tr>\n",
       "      <th>CREDIT_LIMIT</th>\n",
       "      <td>0</td>\n",
       "    </tr>\n",
       "    <tr>\n",
       "      <th>PAYMENTS</th>\n",
       "      <td>0</td>\n",
       "    </tr>\n",
       "    <tr>\n",
       "      <th>MINIMUM_PAYMENTS</th>\n",
       "      <td>0</td>\n",
       "    </tr>\n",
       "    <tr>\n",
       "      <th>PRC_FULL_PAYMENT</th>\n",
       "      <td>0</td>\n",
       "    </tr>\n",
       "    <tr>\n",
       "      <th>TENURE</th>\n",
       "      <td>0</td>\n",
       "    </tr>\n",
       "  </tbody>\n",
       "</table>\n",
       "</div>"
      ],
      "text/plain": [
       "                                  0\n",
       "CUST_ID                           0\n",
       "BALANCE                           0\n",
       "BALANCE_FREQUENCY                 0\n",
       "PURCHASES                         0\n",
       "ONEOFF_PURCHASES                  0\n",
       "INSTALLMENTS_PURCHASES            0\n",
       "CASH_ADVANCE                      0\n",
       "PURCHASES_FREQUENCY               0\n",
       "ONEOFF_PURCHASES_FREQUENCY        0\n",
       "PURCHASES_INSTALLMENTS_FREQUENCY  0\n",
       "CASH_ADVANCE_FREQUENCY            0\n",
       "CASH_ADVANCE_TRX                  0\n",
       "PURCHASES_TRX                     0\n",
       "CREDIT_LIMIT                      0\n",
       "PAYMENTS                          0\n",
       "MINIMUM_PAYMENTS                  0\n",
       "PRC_FULL_PAYMENT                  0\n",
       "TENURE                            0"
      ]
     },
     "execution_count": 8,
     "metadata": {},
     "output_type": "execute_result"
    }
   ],
   "source": [
    " pd.DataFrame(h.isnull().sum())"
   ]
  },
  {
   "cell_type": "markdown",
   "metadata": {},
   "source": [
    "There are no missing values."
   ]
  },
  {
   "cell_type": "markdown",
   "metadata": {},
   "source": [
    "# Feature Extraction (Deriving New KPI)"
   ]
  },
  {
   "cell_type": "markdown",
   "metadata": {},
   "source": [
    "#### 1 . Monthly average purchase and Cash advancement amount"
   ]
  },
  {
   "cell_type": "code",
   "execution_count": 9,
   "metadata": {},
   "outputs": [],
   "source": [
    "h['Monthly_avg_purchase']=h['PURCHASES']/h['TENURE']\n",
    "h['Monthly_cash_advance']=h['CASH_ADVANCE']/h['TENURE']"
   ]
  },
  {
   "cell_type": "code",
   "execution_count": 134,
   "metadata": {},
   "outputs": [
    {
     "data": {
      "text/plain": [
       "0      7.950000\n",
       "1      0.000000\n",
       "2     64.430833\n",
       "3    124.916667\n",
       "4      1.333333\n",
       "Name: Monthly_avg_purchase, dtype: float64"
      ]
     },
     "execution_count": 134,
     "metadata": {},
     "output_type": "execute_result"
    }
   ],
   "source": [
    "h['Monthly_avg_purchase'].head()"
   ]
  },
  {
   "cell_type": "code",
   "execution_count": 135,
   "metadata": {},
   "outputs": [
    {
     "data": {
      "text/plain": [
       "0      0.000000\n",
       "1    536.912124\n",
       "2      0.000000\n",
       "3     17.149001\n",
       "4      0.000000\n",
       "Name: Monthly_cash_advance, dtype: float64"
      ]
     },
     "execution_count": 135,
     "metadata": {},
     "output_type": "execute_result"
    }
   ],
   "source": [
    "h['Monthly_cash_advance'].head()"
   ]
  },
  {
   "cell_type": "code",
   "execution_count": 136,
   "metadata": {},
   "outputs": [
    {
     "data": {
      "text/plain": [
       "4302"
      ]
     },
     "execution_count": 136,
     "metadata": {},
     "output_type": "execute_result"
    }
   ],
   "source": [
    "h[h['ONEOFF_PURCHASES']==0]['ONEOFF_PURCHASES'].count()"
   ]
  },
  {
   "cell_type": "markdown",
   "metadata": {},
   "source": [
    "#### 2. Purchase type"
   ]
  },
  {
   "cell_type": "markdown",
   "metadata": {},
   "source": [
    "Here we are trying to extract different types of customers based on their purchases.We have two variables\n",
    " 1. ONEOFF_PURCHASES 2 .INSTALLMENTS_PURCHASES\n",
    ", using these variables we extract customer behaviour "
   ]
  },
  {
   "cell_type": "code",
   "execution_count": 137,
   "metadata": {},
   "outputs": [
    {
     "data": {
      "text/html": [
       "<div>\n",
       "<style scoped>\n",
       "    .dataframe tbody tr th:only-of-type {\n",
       "        vertical-align: middle;\n",
       "    }\n",
       "\n",
       "    .dataframe tbody tr th {\n",
       "        vertical-align: top;\n",
       "    }\n",
       "\n",
       "    .dataframe thead th {\n",
       "        text-align: right;\n",
       "    }\n",
       "</style>\n",
       "<table border=\"1\" class=\"dataframe\">\n",
       "  <thead>\n",
       "    <tr style=\"text-align: right;\">\n",
       "      <th></th>\n",
       "      <th>ONEOFF_PURCHASES</th>\n",
       "      <th>INSTALLMENTS_PURCHASES</th>\n",
       "    </tr>\n",
       "  </thead>\n",
       "  <tbody>\n",
       "    <tr>\n",
       "      <th>0</th>\n",
       "      <td>0.00</td>\n",
       "      <td>95.4</td>\n",
       "    </tr>\n",
       "    <tr>\n",
       "      <th>1</th>\n",
       "      <td>0.00</td>\n",
       "      <td>0.0</td>\n",
       "    </tr>\n",
       "    <tr>\n",
       "      <th>2</th>\n",
       "      <td>773.17</td>\n",
       "      <td>0.0</td>\n",
       "    </tr>\n",
       "    <tr>\n",
       "      <th>3</th>\n",
       "      <td>1499.00</td>\n",
       "      <td>0.0</td>\n",
       "    </tr>\n",
       "    <tr>\n",
       "      <th>4</th>\n",
       "      <td>16.00</td>\n",
       "      <td>0.0</td>\n",
       "    </tr>\n",
       "  </tbody>\n",
       "</table>\n",
       "</div>"
      ],
      "text/plain": [
       "   ONEOFF_PURCHASES  INSTALLMENTS_PURCHASES\n",
       "0              0.00                    95.4\n",
       "1              0.00                     0.0\n",
       "2            773.17                     0.0\n",
       "3           1499.00                     0.0\n",
       "4             16.00                     0.0"
      ]
     },
     "execution_count": 137,
     "metadata": {},
     "output_type": "execute_result"
    }
   ],
   "source": [
    "h.loc[:,['ONEOFF_PURCHASES','INSTALLMENTS_PURCHASES']].head()"
   ]
  },
  {
   "cell_type": "code",
   "execution_count": 10,
   "metadata": {},
   "outputs": [
    {
     "data": {
      "text/plain": [
       "(2042, 20)"
      ]
     },
     "execution_count": 10,
     "metadata": {},
     "output_type": "execute_result"
    }
   ],
   "source": [
    "h[(h['ONEOFF_PURCHASES']==0) & (h['INSTALLMENTS_PURCHASES']==0)].shape"
   ]
  },
  {
   "cell_type": "code",
   "execution_count": 139,
   "metadata": {},
   "outputs": [
    {
     "data": {
      "text/plain": [
       "(2260, 20)"
      ]
     },
     "execution_count": 139,
     "metadata": {},
     "output_type": "execute_result"
    }
   ],
   "source": [
    "h[(h['ONEOFF_PURCHASES']==0) & (h['INSTALLMENTS_PURCHASES']>0)].shape"
   ]
  },
  {
   "cell_type": "code",
   "execution_count": 140,
   "metadata": {},
   "outputs": [
    {
     "data": {
      "text/plain": [
       "(1874, 20)"
      ]
     },
     "execution_count": 140,
     "metadata": {},
     "output_type": "execute_result"
    }
   ],
   "source": [
    "h[(h['ONEOFF_PURCHASES']>0) & (h['INSTALLMENTS_PURCHASES']==0)].shape"
   ]
  },
  {
   "cell_type": "code",
   "execution_count": 141,
   "metadata": {},
   "outputs": [
    {
     "data": {
      "text/plain": [
       "(2774, 20)"
      ]
     },
     "execution_count": 141,
     "metadata": {},
     "output_type": "execute_result"
    }
   ],
   "source": [
    "h[(h['ONEOFF_PURCHASES']>0) & (h['INSTALLMENTS_PURCHASES']>0)].shape"
   ]
  },
  {
   "cell_type": "markdown",
   "metadata": {},
   "source": [
    "#### We can observe, they are 4 types of customer behaviours.\n",
    "     1). Customers who do only online/offline Purchases.\n",
    "     2). Customers who purchases only through Installments.\n",
    "     3). Customers who purchases both through online/offline and installments.\n",
    "     4). Customers who don't do any type of purchases"
   ]
  },
  {
   "cell_type": "markdown",
   "metadata": {},
   "source": [
    "#### 3 . Now we are extracting new variable called \"Purchase_Type\" which will be a categorical variable."
   ]
  },
  {
   "cell_type": "code",
   "execution_count": 11,
   "metadata": {},
   "outputs": [],
   "source": [
    "def purchase(h):   \n",
    "    if (h['ONEOFF_PURCHASES']==0) & (h['INSTALLMENTS_PURCHASES']==0):\n",
    "        return 'none'\n",
    "    if (h['ONEOFF_PURCHASES']>0) & (h['INSTALLMENTS_PURCHASES']>0):\n",
    "         return 'both_online/offline_installment'\n",
    "    if (h['ONEOFF_PURCHASES']>0) & (h['INSTALLMENTS_PURCHASES']==0):\n",
    "        return 'online/offline_Purchases'\n",
    "    if (h['ONEOFF_PURCHASES']==0) & (h['INSTALLMENTS_PURCHASES']>0):\n",
    "        return 'installment'"
   ]
  },
  {
   "cell_type": "code",
   "execution_count": 12,
   "metadata": {},
   "outputs": [],
   "source": [
    "h['Purchase_Type']=h.apply(purchase,axis=1)"
   ]
  },
  {
   "cell_type": "code",
   "execution_count": 144,
   "metadata": {},
   "outputs": [
    {
     "data": {
      "text/plain": [
       "both_online/offline_installment    2774\n",
       "installment                        2260\n",
       "none                               2042\n",
       "online/offline_Purchases           1874\n",
       "Name: Purchase_Type, dtype: int64"
      ]
     },
     "execution_count": 144,
     "metadata": {},
     "output_type": "execute_result"
    }
   ],
   "source": [
    "h['Purchase_Type'].value_counts()"
   ]
  },
  {
   "cell_type": "markdown",
   "metadata": {},
   "source": [
    "#### 4. Limit_Usage\n",
    "    Here we are extracting 'limit_usage' variable using BALANCE and CREDIT_LIMIT variables"
   ]
  },
  {
   "cell_type": "code",
   "execution_count": 13,
   "metadata": {},
   "outputs": [],
   "source": [
    "h['limit_usage']=h.apply(lambda x: x['BALANCE']/x['CREDIT_LIMIT'], axis=1)"
   ]
  },
  {
   "cell_type": "code",
   "execution_count": 146,
   "metadata": {},
   "outputs": [],
   "source": [
    "j = h.copy()"
   ]
  },
  {
   "cell_type": "code",
   "execution_count": 147,
   "metadata": {},
   "outputs": [
    {
     "data": {
      "text/plain": [
       "0    0.040901\n",
       "1    0.457495\n",
       "2    0.332687\n",
       "3    0.222223\n",
       "4    0.681429\n",
       "Name: limit_usage, dtype: float64"
      ]
     },
     "execution_count": 147,
     "metadata": {},
     "output_type": "execute_result"
    }
   ],
   "source": [
    "h['limit_usage'].head()"
   ]
  },
  {
   "cell_type": "markdown",
   "metadata": {},
   "source": [
    "the lowest values are the values with good credit score"
   ]
  },
  {
   "cell_type": "markdown",
   "metadata": {},
   "source": [
    "#### 4.Payment to minimum paymensts ratio\n",
    " Here we are extracting 'payment_minpay' from 'PAYMENTS'and 'MINIMUM_PAYMENTS' variables"
   ]
  },
  {
   "cell_type": "code",
   "execution_count": 14,
   "metadata": {},
   "outputs": [],
   "source": [
    "h['payment_minpay']=h.apply(lambda x:x['PAYMENTS']/x['MINIMUM_PAYMENTS'],axis=1)\n"
   ]
  },
  {
   "cell_type": "code",
   "execution_count": 149,
   "metadata": {},
   "outputs": [
    {
     "data": {
      "text/plain": [
       "count    8950.000000\n",
       "mean        9.059164\n",
       "std       118.180526\n",
       "min         0.000000\n",
       "25%         0.913275\n",
       "50%         2.032717\n",
       "75%         6.052729\n",
       "max      6840.528861\n",
       "Name: payment_minpay, dtype: float64"
      ]
     },
     "execution_count": 149,
     "metadata": {},
     "output_type": "execute_result"
    }
   ],
   "source": [
    "h['payment_minpay'].describe()"
   ]
  },
  {
   "cell_type": "code",
   "execution_count": 150,
   "metadata": {},
   "outputs": [
    {
     "name": "stdout",
     "output_type": "stream",
     "text": [
      "<class 'pandas.core.frame.DataFrame'>\n",
      "RangeIndex: 8950 entries, 0 to 8949\n",
      "Data columns (total 23 columns):\n",
      "CUST_ID                             8950 non-null object\n",
      "BALANCE                             8950 non-null float64\n",
      "BALANCE_FREQUENCY                   8950 non-null float64\n",
      "PURCHASES                           8950 non-null float64\n",
      "ONEOFF_PURCHASES                    8950 non-null float64\n",
      "INSTALLMENTS_PURCHASES              8950 non-null float64\n",
      "CASH_ADVANCE                        8950 non-null float64\n",
      "PURCHASES_FREQUENCY                 8950 non-null float64\n",
      "ONEOFF_PURCHASES_FREQUENCY          8950 non-null float64\n",
      "PURCHASES_INSTALLMENTS_FREQUENCY    8950 non-null float64\n",
      "CASH_ADVANCE_FREQUENCY              8950 non-null float64\n",
      "CASH_ADVANCE_TRX                    8950 non-null int64\n",
      "PURCHASES_TRX                       8950 non-null int64\n",
      "CREDIT_LIMIT                        8950 non-null float64\n",
      "PAYMENTS                            8950 non-null float64\n",
      "MINIMUM_PAYMENTS                    8950 non-null float64\n",
      "PRC_FULL_PAYMENT                    8950 non-null float64\n",
      "TENURE                              8950 non-null int64\n",
      "Monthly_avg_purchase                8950 non-null float64\n",
      "Monthly_cash_advance                8950 non-null float64\n",
      "Purchase_Type                       8950 non-null object\n",
      "limit_usage                         8950 non-null float64\n",
      "payment_minpay                      8950 non-null float64\n",
      "dtypes: float64(18), int64(3), object(2)\n",
      "memory usage: 1.6+ MB\n"
     ]
    }
   ],
   "source": [
    "h.info()"
   ]
  },
  {
   "cell_type": "markdown",
   "metadata": {},
   "source": [
    "#### 5. Average amount per purchase and cash advance transaction"
   ]
  },
  {
   "cell_type": "code",
   "execution_count": 151,
   "metadata": {},
   "outputs": [
    {
     "data": {
      "text/plain": [
       "Index(['CUST_ID', 'BALANCE', 'BALANCE_FREQUENCY', 'PURCHASES',\n",
       "       'ONEOFF_PURCHASES', 'INSTALLMENTS_PURCHASES', 'CASH_ADVANCE',\n",
       "       'PURCHASES_FREQUENCY', 'ONEOFF_PURCHASES_FREQUENCY',\n",
       "       'PURCHASES_INSTALLMENTS_FREQUENCY', 'CASH_ADVANCE_FREQUENCY',\n",
       "       'CASH_ADVANCE_TRX', 'PURCHASES_TRX', 'CREDIT_LIMIT', 'PAYMENTS',\n",
       "       'MINIMUM_PAYMENTS', 'PRC_FULL_PAYMENT', 'TENURE',\n",
       "       'Monthly_avg_purchase', 'Monthly_cash_advance', 'Purchase_Type',\n",
       "       'limit_usage', 'payment_minpay'],\n",
       "      dtype='object')"
      ]
     },
     "execution_count": 151,
     "metadata": {},
     "output_type": "execute_result"
    }
   ],
   "source": [
    "h.columns"
   ]
  },
  {
   "cell_type": "code",
   "execution_count": 152,
   "metadata": {},
   "outputs": [
    {
     "data": {
      "text/plain": [
       "0      7.950000\n",
       "1      0.000000\n",
       "2     64.430833\n",
       "3    124.916667\n",
       "4      1.333333\n",
       "Name: Monthly_avg_purchase, dtype: float64"
      ]
     },
     "execution_count": 152,
     "metadata": {},
     "output_type": "execute_result"
    }
   ],
   "source": [
    "h.Monthly_avg_purchase.head()"
   ]
  },
  {
   "cell_type": "code",
   "execution_count": 153,
   "metadata": {},
   "outputs": [
    {
     "data": {
      "text/plain": [
       "0    0\n",
       "1    4\n",
       "2    0\n",
       "3    1\n",
       "4    0\n",
       "Name: CASH_ADVANCE_TRX, dtype: int64"
      ]
     },
     "execution_count": 153,
     "metadata": {},
     "output_type": "execute_result"
    }
   ],
   "source": [
    "h.CASH_ADVANCE_TRX.head()"
   ]
  },
  {
   "cell_type": "markdown",
   "metadata": {},
   "source": [
    "#### As these variables are already present in the dataset,there is no need of feature extraction. "
   ]
  },
  {
   "cell_type": "markdown",
   "metadata": {},
   "source": [
    "# Outlier Analysis"
   ]
  },
  {
   "cell_type": "code",
   "execution_count": 154,
   "metadata": {},
   "outputs": [
    {
     "data": {
      "text/html": [
       "<div>\n",
       "<style scoped>\n",
       "    .dataframe tbody tr th:only-of-type {\n",
       "        vertical-align: middle;\n",
       "    }\n",
       "\n",
       "    .dataframe tbody tr th {\n",
       "        vertical-align: top;\n",
       "    }\n",
       "\n",
       "    .dataframe thead th {\n",
       "        text-align: right;\n",
       "    }\n",
       "</style>\n",
       "<table border=\"1\" class=\"dataframe\">\n",
       "  <thead>\n",
       "    <tr style=\"text-align: right;\">\n",
       "      <th></th>\n",
       "      <th>count</th>\n",
       "      <th>mean</th>\n",
       "      <th>std</th>\n",
       "      <th>min</th>\n",
       "      <th>25%</th>\n",
       "      <th>50%</th>\n",
       "      <th>75%</th>\n",
       "      <th>max</th>\n",
       "    </tr>\n",
       "  </thead>\n",
       "  <tbody>\n",
       "    <tr>\n",
       "      <th>BALANCE</th>\n",
       "      <td>8950.0</td>\n",
       "      <td>1564.474828</td>\n",
       "      <td>2081.531879</td>\n",
       "      <td>0.000000</td>\n",
       "      <td>128.281915</td>\n",
       "      <td>873.385231</td>\n",
       "      <td>2054.140036</td>\n",
       "      <td>19043.138560</td>\n",
       "    </tr>\n",
       "    <tr>\n",
       "      <th>BALANCE_FREQUENCY</th>\n",
       "      <td>8950.0</td>\n",
       "      <td>0.877271</td>\n",
       "      <td>0.236904</td>\n",
       "      <td>0.000000</td>\n",
       "      <td>0.888889</td>\n",
       "      <td>1.000000</td>\n",
       "      <td>1.000000</td>\n",
       "      <td>1.000000</td>\n",
       "    </tr>\n",
       "    <tr>\n",
       "      <th>PURCHASES</th>\n",
       "      <td>8950.0</td>\n",
       "      <td>1003.204834</td>\n",
       "      <td>2136.634782</td>\n",
       "      <td>0.000000</td>\n",
       "      <td>39.635000</td>\n",
       "      <td>361.280000</td>\n",
       "      <td>1110.130000</td>\n",
       "      <td>49039.570000</td>\n",
       "    </tr>\n",
       "    <tr>\n",
       "      <th>ONEOFF_PURCHASES</th>\n",
       "      <td>8950.0</td>\n",
       "      <td>592.437371</td>\n",
       "      <td>1659.887917</td>\n",
       "      <td>0.000000</td>\n",
       "      <td>0.000000</td>\n",
       "      <td>38.000000</td>\n",
       "      <td>577.405000</td>\n",
       "      <td>40761.250000</td>\n",
       "    </tr>\n",
       "    <tr>\n",
       "      <th>INSTALLMENTS_PURCHASES</th>\n",
       "      <td>8950.0</td>\n",
       "      <td>411.067645</td>\n",
       "      <td>904.338115</td>\n",
       "      <td>0.000000</td>\n",
       "      <td>0.000000</td>\n",
       "      <td>89.000000</td>\n",
       "      <td>468.637500</td>\n",
       "      <td>22500.000000</td>\n",
       "    </tr>\n",
       "    <tr>\n",
       "      <th>CASH_ADVANCE</th>\n",
       "      <td>8950.0</td>\n",
       "      <td>978.871112</td>\n",
       "      <td>2097.163877</td>\n",
       "      <td>0.000000</td>\n",
       "      <td>0.000000</td>\n",
       "      <td>0.000000</td>\n",
       "      <td>1113.821139</td>\n",
       "      <td>47137.211760</td>\n",
       "    </tr>\n",
       "    <tr>\n",
       "      <th>PURCHASES_FREQUENCY</th>\n",
       "      <td>8950.0</td>\n",
       "      <td>0.490351</td>\n",
       "      <td>0.401371</td>\n",
       "      <td>0.000000</td>\n",
       "      <td>0.083333</td>\n",
       "      <td>0.500000</td>\n",
       "      <td>0.916667</td>\n",
       "      <td>1.000000</td>\n",
       "    </tr>\n",
       "    <tr>\n",
       "      <th>ONEOFF_PURCHASES_FREQUENCY</th>\n",
       "      <td>8950.0</td>\n",
       "      <td>0.202458</td>\n",
       "      <td>0.298336</td>\n",
       "      <td>0.000000</td>\n",
       "      <td>0.000000</td>\n",
       "      <td>0.083333</td>\n",
       "      <td>0.300000</td>\n",
       "      <td>1.000000</td>\n",
       "    </tr>\n",
       "    <tr>\n",
       "      <th>PURCHASES_INSTALLMENTS_FREQUENCY</th>\n",
       "      <td>8950.0</td>\n",
       "      <td>0.364437</td>\n",
       "      <td>0.397448</td>\n",
       "      <td>0.000000</td>\n",
       "      <td>0.000000</td>\n",
       "      <td>0.166667</td>\n",
       "      <td>0.750000</td>\n",
       "      <td>1.000000</td>\n",
       "    </tr>\n",
       "    <tr>\n",
       "      <th>CASH_ADVANCE_FREQUENCY</th>\n",
       "      <td>8950.0</td>\n",
       "      <td>0.135144</td>\n",
       "      <td>0.200121</td>\n",
       "      <td>0.000000</td>\n",
       "      <td>0.000000</td>\n",
       "      <td>0.000000</td>\n",
       "      <td>0.222222</td>\n",
       "      <td>1.500000</td>\n",
       "    </tr>\n",
       "    <tr>\n",
       "      <th>CASH_ADVANCE_TRX</th>\n",
       "      <td>8950.0</td>\n",
       "      <td>3.248827</td>\n",
       "      <td>6.824647</td>\n",
       "      <td>0.000000</td>\n",
       "      <td>0.000000</td>\n",
       "      <td>0.000000</td>\n",
       "      <td>4.000000</td>\n",
       "      <td>123.000000</td>\n",
       "    </tr>\n",
       "    <tr>\n",
       "      <th>PURCHASES_TRX</th>\n",
       "      <td>8950.0</td>\n",
       "      <td>14.709832</td>\n",
       "      <td>24.857649</td>\n",
       "      <td>0.000000</td>\n",
       "      <td>1.000000</td>\n",
       "      <td>7.000000</td>\n",
       "      <td>17.000000</td>\n",
       "      <td>358.000000</td>\n",
       "    </tr>\n",
       "    <tr>\n",
       "      <th>CREDIT_LIMIT</th>\n",
       "      <td>8950.0</td>\n",
       "      <td>4494.282473</td>\n",
       "      <td>3638.646702</td>\n",
       "      <td>50.000000</td>\n",
       "      <td>1600.000000</td>\n",
       "      <td>3000.000000</td>\n",
       "      <td>6500.000000</td>\n",
       "      <td>30000.000000</td>\n",
       "    </tr>\n",
       "    <tr>\n",
       "      <th>PAYMENTS</th>\n",
       "      <td>8950.0</td>\n",
       "      <td>1733.143852</td>\n",
       "      <td>2895.063757</td>\n",
       "      <td>0.000000</td>\n",
       "      <td>383.276166</td>\n",
       "      <td>856.901546</td>\n",
       "      <td>1901.134317</td>\n",
       "      <td>50721.483360</td>\n",
       "    </tr>\n",
       "    <tr>\n",
       "      <th>MINIMUM_PAYMENTS</th>\n",
       "      <td>8950.0</td>\n",
       "      <td>844.906767</td>\n",
       "      <td>2332.792322</td>\n",
       "      <td>0.019163</td>\n",
       "      <td>170.857654</td>\n",
       "      <td>312.343947</td>\n",
       "      <td>788.713501</td>\n",
       "      <td>76406.207520</td>\n",
       "    </tr>\n",
       "    <tr>\n",
       "      <th>PRC_FULL_PAYMENT</th>\n",
       "      <td>8950.0</td>\n",
       "      <td>0.153715</td>\n",
       "      <td>0.292499</td>\n",
       "      <td>0.000000</td>\n",
       "      <td>0.000000</td>\n",
       "      <td>0.000000</td>\n",
       "      <td>0.142857</td>\n",
       "      <td>1.000000</td>\n",
       "    </tr>\n",
       "    <tr>\n",
       "      <th>TENURE</th>\n",
       "      <td>8950.0</td>\n",
       "      <td>11.517318</td>\n",
       "      <td>1.338331</td>\n",
       "      <td>6.000000</td>\n",
       "      <td>12.000000</td>\n",
       "      <td>12.000000</td>\n",
       "      <td>12.000000</td>\n",
       "      <td>12.000000</td>\n",
       "    </tr>\n",
       "    <tr>\n",
       "      <th>Monthly_avg_purchase</th>\n",
       "      <td>8950.0</td>\n",
       "      <td>86.175173</td>\n",
       "      <td>180.508787</td>\n",
       "      <td>0.000000</td>\n",
       "      <td>3.399375</td>\n",
       "      <td>31.936667</td>\n",
       "      <td>97.228333</td>\n",
       "      <td>4086.630833</td>\n",
       "    </tr>\n",
       "    <tr>\n",
       "      <th>Monthly_cash_advance</th>\n",
       "      <td>8950.0</td>\n",
       "      <td>88.977984</td>\n",
       "      <td>193.136115</td>\n",
       "      <td>0.000000</td>\n",
       "      <td>0.000000</td>\n",
       "      <td>0.000000</td>\n",
       "      <td>99.085196</td>\n",
       "      <td>3928.100980</td>\n",
       "    </tr>\n",
       "    <tr>\n",
       "      <th>limit_usage</th>\n",
       "      <td>8950.0</td>\n",
       "      <td>0.388884</td>\n",
       "      <td>0.389722</td>\n",
       "      <td>0.000000</td>\n",
       "      <td>0.041494</td>\n",
       "      <td>0.302720</td>\n",
       "      <td>0.717571</td>\n",
       "      <td>15.909951</td>\n",
       "    </tr>\n",
       "    <tr>\n",
       "      <th>payment_minpay</th>\n",
       "      <td>8950.0</td>\n",
       "      <td>9.059164</td>\n",
       "      <td>118.180526</td>\n",
       "      <td>0.000000</td>\n",
       "      <td>0.913275</td>\n",
       "      <td>2.032717</td>\n",
       "      <td>6.052729</td>\n",
       "      <td>6840.528861</td>\n",
       "    </tr>\n",
       "  </tbody>\n",
       "</table>\n",
       "</div>"
      ],
      "text/plain": [
       "                                   count         mean          std        min  \\\n",
       "BALANCE                           8950.0  1564.474828  2081.531879   0.000000   \n",
       "BALANCE_FREQUENCY                 8950.0     0.877271     0.236904   0.000000   \n",
       "PURCHASES                         8950.0  1003.204834  2136.634782   0.000000   \n",
       "ONEOFF_PURCHASES                  8950.0   592.437371  1659.887917   0.000000   \n",
       "INSTALLMENTS_PURCHASES            8950.0   411.067645   904.338115   0.000000   \n",
       "CASH_ADVANCE                      8950.0   978.871112  2097.163877   0.000000   \n",
       "PURCHASES_FREQUENCY               8950.0     0.490351     0.401371   0.000000   \n",
       "ONEOFF_PURCHASES_FREQUENCY        8950.0     0.202458     0.298336   0.000000   \n",
       "PURCHASES_INSTALLMENTS_FREQUENCY  8950.0     0.364437     0.397448   0.000000   \n",
       "CASH_ADVANCE_FREQUENCY            8950.0     0.135144     0.200121   0.000000   \n",
       "CASH_ADVANCE_TRX                  8950.0     3.248827     6.824647   0.000000   \n",
       "PURCHASES_TRX                     8950.0    14.709832    24.857649   0.000000   \n",
       "CREDIT_LIMIT                      8950.0  4494.282473  3638.646702  50.000000   \n",
       "PAYMENTS                          8950.0  1733.143852  2895.063757   0.000000   \n",
       "MINIMUM_PAYMENTS                  8950.0   844.906767  2332.792322   0.019163   \n",
       "PRC_FULL_PAYMENT                  8950.0     0.153715     0.292499   0.000000   \n",
       "TENURE                            8950.0    11.517318     1.338331   6.000000   \n",
       "Monthly_avg_purchase              8950.0    86.175173   180.508787   0.000000   \n",
       "Monthly_cash_advance              8950.0    88.977984   193.136115   0.000000   \n",
       "limit_usage                       8950.0     0.388884     0.389722   0.000000   \n",
       "payment_minpay                    8950.0     9.059164   118.180526   0.000000   \n",
       "\n",
       "                                          25%          50%          75%  \\\n",
       "BALANCE                            128.281915   873.385231  2054.140036   \n",
       "BALANCE_FREQUENCY                    0.888889     1.000000     1.000000   \n",
       "PURCHASES                           39.635000   361.280000  1110.130000   \n",
       "ONEOFF_PURCHASES                     0.000000    38.000000   577.405000   \n",
       "INSTALLMENTS_PURCHASES               0.000000    89.000000   468.637500   \n",
       "CASH_ADVANCE                         0.000000     0.000000  1113.821139   \n",
       "PURCHASES_FREQUENCY                  0.083333     0.500000     0.916667   \n",
       "ONEOFF_PURCHASES_FREQUENCY           0.000000     0.083333     0.300000   \n",
       "PURCHASES_INSTALLMENTS_FREQUENCY     0.000000     0.166667     0.750000   \n",
       "CASH_ADVANCE_FREQUENCY               0.000000     0.000000     0.222222   \n",
       "CASH_ADVANCE_TRX                     0.000000     0.000000     4.000000   \n",
       "PURCHASES_TRX                        1.000000     7.000000    17.000000   \n",
       "CREDIT_LIMIT                      1600.000000  3000.000000  6500.000000   \n",
       "PAYMENTS                           383.276166   856.901546  1901.134317   \n",
       "MINIMUM_PAYMENTS                   170.857654   312.343947   788.713501   \n",
       "PRC_FULL_PAYMENT                     0.000000     0.000000     0.142857   \n",
       "TENURE                              12.000000    12.000000    12.000000   \n",
       "Monthly_avg_purchase                 3.399375    31.936667    97.228333   \n",
       "Monthly_cash_advance                 0.000000     0.000000    99.085196   \n",
       "limit_usage                          0.041494     0.302720     0.717571   \n",
       "payment_minpay                       0.913275     2.032717     6.052729   \n",
       "\n",
       "                                           max  \n",
       "BALANCE                           19043.138560  \n",
       "BALANCE_FREQUENCY                     1.000000  \n",
       "PURCHASES                         49039.570000  \n",
       "ONEOFF_PURCHASES                  40761.250000  \n",
       "INSTALLMENTS_PURCHASES            22500.000000  \n",
       "CASH_ADVANCE                      47137.211760  \n",
       "PURCHASES_FREQUENCY                   1.000000  \n",
       "ONEOFF_PURCHASES_FREQUENCY            1.000000  \n",
       "PURCHASES_INSTALLMENTS_FREQUENCY      1.000000  \n",
       "CASH_ADVANCE_FREQUENCY                1.500000  \n",
       "CASH_ADVANCE_TRX                    123.000000  \n",
       "PURCHASES_TRX                       358.000000  \n",
       "CREDIT_LIMIT                      30000.000000  \n",
       "PAYMENTS                          50721.483360  \n",
       "MINIMUM_PAYMENTS                  76406.207520  \n",
       "PRC_FULL_PAYMENT                      1.000000  \n",
       "TENURE                               12.000000  \n",
       "Monthly_avg_purchase               4086.630833  \n",
       "Monthly_cash_advance               3928.100980  \n",
       "limit_usage                          15.909951  \n",
       "payment_minpay                     6840.528861  "
      ]
     },
     "execution_count": 154,
     "metadata": {},
     "output_type": "execute_result"
    }
   ],
   "source": [
    "h.describe().T"
   ]
  },
  {
   "cell_type": "code",
   "execution_count": 15,
   "metadata": {},
   "outputs": [],
   "source": [
    "# log tranformation would be appropiate for outliers \n",
    "data=h.drop(['CUST_ID','Purchase_Type'],axis=1).applymap(lambda x: np.log(x+1))"
   ]
  },
  {
   "cell_type": "code",
   "execution_count": 156,
   "metadata": {
    "scrolled": true
   },
   "outputs": [
    {
     "data": {
      "text/html": [
       "<div>\n",
       "<style scoped>\n",
       "    .dataframe tbody tr th:only-of-type {\n",
       "        vertical-align: middle;\n",
       "    }\n",
       "\n",
       "    .dataframe tbody tr th {\n",
       "        vertical-align: top;\n",
       "    }\n",
       "\n",
       "    .dataframe thead th {\n",
       "        text-align: right;\n",
       "    }\n",
       "</style>\n",
       "<table border=\"1\" class=\"dataframe\">\n",
       "  <thead>\n",
       "    <tr style=\"text-align: right;\">\n",
       "      <th></th>\n",
       "      <th>count</th>\n",
       "      <th>mean</th>\n",
       "      <th>std</th>\n",
       "      <th>min</th>\n",
       "      <th>25%</th>\n",
       "      <th>50%</th>\n",
       "      <th>75%</th>\n",
       "      <th>max</th>\n",
       "    </tr>\n",
       "  </thead>\n",
       "  <tbody>\n",
       "    <tr>\n",
       "      <th>BALANCE</th>\n",
       "      <td>8950.0</td>\n",
       "      <td>6.161637</td>\n",
       "      <td>2.013303</td>\n",
       "      <td>0.000000</td>\n",
       "      <td>4.861995</td>\n",
       "      <td>6.773521</td>\n",
       "      <td>7.628099</td>\n",
       "      <td>9.854515</td>\n",
       "    </tr>\n",
       "    <tr>\n",
       "      <th>BALANCE_FREQUENCY</th>\n",
       "      <td>8950.0</td>\n",
       "      <td>0.619940</td>\n",
       "      <td>0.148590</td>\n",
       "      <td>0.000000</td>\n",
       "      <td>0.635989</td>\n",
       "      <td>0.693147</td>\n",
       "      <td>0.693147</td>\n",
       "      <td>0.693147</td>\n",
       "    </tr>\n",
       "    <tr>\n",
       "      <th>PURCHASES</th>\n",
       "      <td>8950.0</td>\n",
       "      <td>4.899647</td>\n",
       "      <td>2.916872</td>\n",
       "      <td>0.000000</td>\n",
       "      <td>3.704627</td>\n",
       "      <td>5.892417</td>\n",
       "      <td>7.013133</td>\n",
       "      <td>10.800403</td>\n",
       "    </tr>\n",
       "    <tr>\n",
       "      <th>ONEOFF_PURCHASES</th>\n",
       "      <td>8950.0</td>\n",
       "      <td>3.204274</td>\n",
       "      <td>3.246365</td>\n",
       "      <td>0.000000</td>\n",
       "      <td>0.000000</td>\n",
       "      <td>3.663562</td>\n",
       "      <td>6.360274</td>\n",
       "      <td>10.615512</td>\n",
       "    </tr>\n",
       "    <tr>\n",
       "      <th>INSTALLMENTS_PURCHASES</th>\n",
       "      <td>8950.0</td>\n",
       "      <td>3.352403</td>\n",
       "      <td>3.082973</td>\n",
       "      <td>0.000000</td>\n",
       "      <td>0.000000</td>\n",
       "      <td>4.499810</td>\n",
       "      <td>6.151961</td>\n",
       "      <td>10.021315</td>\n",
       "    </tr>\n",
       "    <tr>\n",
       "      <th>CASH_ADVANCE</th>\n",
       "      <td>8950.0</td>\n",
       "      <td>3.319086</td>\n",
       "      <td>3.566298</td>\n",
       "      <td>0.000000</td>\n",
       "      <td>0.000000</td>\n",
       "      <td>0.000000</td>\n",
       "      <td>7.016449</td>\n",
       "      <td>10.760839</td>\n",
       "    </tr>\n",
       "    <tr>\n",
       "      <th>PURCHASES_FREQUENCY</th>\n",
       "      <td>8950.0</td>\n",
       "      <td>0.361268</td>\n",
       "      <td>0.277317</td>\n",
       "      <td>0.000000</td>\n",
       "      <td>0.080042</td>\n",
       "      <td>0.405465</td>\n",
       "      <td>0.650588</td>\n",
       "      <td>0.693147</td>\n",
       "    </tr>\n",
       "    <tr>\n",
       "      <th>ONEOFF_PURCHASES_FREQUENCY</th>\n",
       "      <td>8950.0</td>\n",
       "      <td>0.158699</td>\n",
       "      <td>0.216672</td>\n",
       "      <td>0.000000</td>\n",
       "      <td>0.000000</td>\n",
       "      <td>0.080042</td>\n",
       "      <td>0.262364</td>\n",
       "      <td>0.693147</td>\n",
       "    </tr>\n",
       "    <tr>\n",
       "      <th>PURCHASES_INSTALLMENTS_FREQUENCY</th>\n",
       "      <td>8950.0</td>\n",
       "      <td>0.270072</td>\n",
       "      <td>0.281852</td>\n",
       "      <td>0.000000</td>\n",
       "      <td>0.000000</td>\n",
       "      <td>0.154151</td>\n",
       "      <td>0.559616</td>\n",
       "      <td>0.693147</td>\n",
       "    </tr>\n",
       "    <tr>\n",
       "      <th>CASH_ADVANCE_FREQUENCY</th>\n",
       "      <td>8950.0</td>\n",
       "      <td>0.113512</td>\n",
       "      <td>0.156716</td>\n",
       "      <td>0.000000</td>\n",
       "      <td>0.000000</td>\n",
       "      <td>0.000000</td>\n",
       "      <td>0.200671</td>\n",
       "      <td>0.916291</td>\n",
       "    </tr>\n",
       "    <tr>\n",
       "      <th>CASH_ADVANCE_TRX</th>\n",
       "      <td>8950.0</td>\n",
       "      <td>0.817570</td>\n",
       "      <td>1.009316</td>\n",
       "      <td>0.000000</td>\n",
       "      <td>0.000000</td>\n",
       "      <td>0.000000</td>\n",
       "      <td>1.609438</td>\n",
       "      <td>4.820282</td>\n",
       "    </tr>\n",
       "    <tr>\n",
       "      <th>PURCHASES_TRX</th>\n",
       "      <td>8950.0</td>\n",
       "      <td>1.894731</td>\n",
       "      <td>1.373856</td>\n",
       "      <td>0.000000</td>\n",
       "      <td>0.693147</td>\n",
       "      <td>2.079442</td>\n",
       "      <td>2.890372</td>\n",
       "      <td>5.883322</td>\n",
       "    </tr>\n",
       "    <tr>\n",
       "      <th>CREDIT_LIMIT</th>\n",
       "      <td>8950.0</td>\n",
       "      <td>8.094825</td>\n",
       "      <td>0.819629</td>\n",
       "      <td>3.931826</td>\n",
       "      <td>7.378384</td>\n",
       "      <td>8.006701</td>\n",
       "      <td>8.779711</td>\n",
       "      <td>10.308986</td>\n",
       "    </tr>\n",
       "    <tr>\n",
       "      <th>PAYMENTS</th>\n",
       "      <td>8950.0</td>\n",
       "      <td>6.624540</td>\n",
       "      <td>1.591763</td>\n",
       "      <td>0.000000</td>\n",
       "      <td>5.951361</td>\n",
       "      <td>6.754489</td>\n",
       "      <td>7.550732</td>\n",
       "      <td>10.834125</td>\n",
       "    </tr>\n",
       "    <tr>\n",
       "      <th>MINIMUM_PAYMENTS</th>\n",
       "      <td>8950.0</td>\n",
       "      <td>5.916079</td>\n",
       "      <td>1.169929</td>\n",
       "      <td>0.018982</td>\n",
       "      <td>5.146667</td>\n",
       "      <td>5.747301</td>\n",
       "      <td>6.671670</td>\n",
       "      <td>11.243832</td>\n",
       "    </tr>\n",
       "    <tr>\n",
       "      <th>PRC_FULL_PAYMENT</th>\n",
       "      <td>8950.0</td>\n",
       "      <td>0.117730</td>\n",
       "      <td>0.211617</td>\n",
       "      <td>0.000000</td>\n",
       "      <td>0.000000</td>\n",
       "      <td>0.000000</td>\n",
       "      <td>0.133531</td>\n",
       "      <td>0.693147</td>\n",
       "    </tr>\n",
       "    <tr>\n",
       "      <th>TENURE</th>\n",
       "      <td>8950.0</td>\n",
       "      <td>2.519680</td>\n",
       "      <td>0.130367</td>\n",
       "      <td>1.945910</td>\n",
       "      <td>2.564949</td>\n",
       "      <td>2.564949</td>\n",
       "      <td>2.564949</td>\n",
       "      <td>2.564949</td>\n",
       "    </tr>\n",
       "    <tr>\n",
       "      <th>Monthly_avg_purchase</th>\n",
       "      <td>8950.0</td>\n",
       "      <td>3.050877</td>\n",
       "      <td>2.002823</td>\n",
       "      <td>0.000000</td>\n",
       "      <td>1.481458</td>\n",
       "      <td>3.494587</td>\n",
       "      <td>4.587295</td>\n",
       "      <td>8.315721</td>\n",
       "    </tr>\n",
       "    <tr>\n",
       "      <th>Monthly_cash_advance</th>\n",
       "      <td>8950.0</td>\n",
       "      <td>2.163970</td>\n",
       "      <td>2.429741</td>\n",
       "      <td>0.000000</td>\n",
       "      <td>0.000000</td>\n",
       "      <td>0.000000</td>\n",
       "      <td>4.606022</td>\n",
       "      <td>8.276166</td>\n",
       "    </tr>\n",
       "    <tr>\n",
       "      <th>limit_usage</th>\n",
       "      <td>8950.0</td>\n",
       "      <td>0.296081</td>\n",
       "      <td>0.250303</td>\n",
       "      <td>0.000000</td>\n",
       "      <td>0.040656</td>\n",
       "      <td>0.264455</td>\n",
       "      <td>0.540911</td>\n",
       "      <td>2.827902</td>\n",
       "    </tr>\n",
       "    <tr>\n",
       "      <th>payment_minpay</th>\n",
       "      <td>8950.0</td>\n",
       "      <td>1.357600</td>\n",
       "      <td>0.940149</td>\n",
       "      <td>0.000000</td>\n",
       "      <td>0.648817</td>\n",
       "      <td>1.109459</td>\n",
       "      <td>1.953415</td>\n",
       "      <td>8.830767</td>\n",
       "    </tr>\n",
       "  </tbody>\n",
       "</table>\n",
       "</div>"
      ],
      "text/plain": [
       "                                   count      mean       std       min  \\\n",
       "BALANCE                           8950.0  6.161637  2.013303  0.000000   \n",
       "BALANCE_FREQUENCY                 8950.0  0.619940  0.148590  0.000000   \n",
       "PURCHASES                         8950.0  4.899647  2.916872  0.000000   \n",
       "ONEOFF_PURCHASES                  8950.0  3.204274  3.246365  0.000000   \n",
       "INSTALLMENTS_PURCHASES            8950.0  3.352403  3.082973  0.000000   \n",
       "CASH_ADVANCE                      8950.0  3.319086  3.566298  0.000000   \n",
       "PURCHASES_FREQUENCY               8950.0  0.361268  0.277317  0.000000   \n",
       "ONEOFF_PURCHASES_FREQUENCY        8950.0  0.158699  0.216672  0.000000   \n",
       "PURCHASES_INSTALLMENTS_FREQUENCY  8950.0  0.270072  0.281852  0.000000   \n",
       "CASH_ADVANCE_FREQUENCY            8950.0  0.113512  0.156716  0.000000   \n",
       "CASH_ADVANCE_TRX                  8950.0  0.817570  1.009316  0.000000   \n",
       "PURCHASES_TRX                     8950.0  1.894731  1.373856  0.000000   \n",
       "CREDIT_LIMIT                      8950.0  8.094825  0.819629  3.931826   \n",
       "PAYMENTS                          8950.0  6.624540  1.591763  0.000000   \n",
       "MINIMUM_PAYMENTS                  8950.0  5.916079  1.169929  0.018982   \n",
       "PRC_FULL_PAYMENT                  8950.0  0.117730  0.211617  0.000000   \n",
       "TENURE                            8950.0  2.519680  0.130367  1.945910   \n",
       "Monthly_avg_purchase              8950.0  3.050877  2.002823  0.000000   \n",
       "Monthly_cash_advance              8950.0  2.163970  2.429741  0.000000   \n",
       "limit_usage                       8950.0  0.296081  0.250303  0.000000   \n",
       "payment_minpay                    8950.0  1.357600  0.940149  0.000000   \n",
       "\n",
       "                                       25%       50%       75%        max  \n",
       "BALANCE                           4.861995  6.773521  7.628099   9.854515  \n",
       "BALANCE_FREQUENCY                 0.635989  0.693147  0.693147   0.693147  \n",
       "PURCHASES                         3.704627  5.892417  7.013133  10.800403  \n",
       "ONEOFF_PURCHASES                  0.000000  3.663562  6.360274  10.615512  \n",
       "INSTALLMENTS_PURCHASES            0.000000  4.499810  6.151961  10.021315  \n",
       "CASH_ADVANCE                      0.000000  0.000000  7.016449  10.760839  \n",
       "PURCHASES_FREQUENCY               0.080042  0.405465  0.650588   0.693147  \n",
       "ONEOFF_PURCHASES_FREQUENCY        0.000000  0.080042  0.262364   0.693147  \n",
       "PURCHASES_INSTALLMENTS_FREQUENCY  0.000000  0.154151  0.559616   0.693147  \n",
       "CASH_ADVANCE_FREQUENCY            0.000000  0.000000  0.200671   0.916291  \n",
       "CASH_ADVANCE_TRX                  0.000000  0.000000  1.609438   4.820282  \n",
       "PURCHASES_TRX                     0.693147  2.079442  2.890372   5.883322  \n",
       "CREDIT_LIMIT                      7.378384  8.006701  8.779711  10.308986  \n",
       "PAYMENTS                          5.951361  6.754489  7.550732  10.834125  \n",
       "MINIMUM_PAYMENTS                  5.146667  5.747301  6.671670  11.243832  \n",
       "PRC_FULL_PAYMENT                  0.000000  0.000000  0.133531   0.693147  \n",
       "TENURE                            2.564949  2.564949  2.564949   2.564949  \n",
       "Monthly_avg_purchase              1.481458  3.494587  4.587295   8.315721  \n",
       "Monthly_cash_advance              0.000000  0.000000  4.606022   8.276166  \n",
       "limit_usage                       0.040656  0.264455  0.540911   2.827902  \n",
       "payment_minpay                    0.648817  1.109459  1.953415   8.830767  "
      ]
     },
     "execution_count": 156,
     "metadata": {},
     "output_type": "execute_result"
    }
   ],
   "source": [
    "data.describe().T"
   ]
  },
  {
   "cell_type": "code",
   "execution_count": 157,
   "metadata": {},
   "outputs": [
    {
     "data": {
      "text/plain": [
       "Index(['BALANCE', 'BALANCE_FREQUENCY', 'PURCHASES', 'ONEOFF_PURCHASES',\n",
       "       'INSTALLMENTS_PURCHASES', 'CASH_ADVANCE', 'PURCHASES_FREQUENCY',\n",
       "       'ONEOFF_PURCHASES_FREQUENCY', 'PURCHASES_INSTALLMENTS_FREQUENCY',\n",
       "       'CASH_ADVANCE_FREQUENCY', 'CASH_ADVANCE_TRX', 'PURCHASES_TRX',\n",
       "       'CREDIT_LIMIT', 'PAYMENTS', 'MINIMUM_PAYMENTS', 'PRC_FULL_PAYMENT',\n",
       "       'TENURE', 'Monthly_avg_purchase', 'Monthly_cash_advance', 'limit_usage',\n",
       "       'payment_minpay'],\n",
       "      dtype='object')"
      ]
     },
     "execution_count": 157,
     "metadata": {},
     "output_type": "execute_result"
    }
   ],
   "source": [
    "data.columns"
   ]
  },
  {
   "cell_type": "code",
   "execution_count": 16,
   "metadata": {},
   "outputs": [],
   "source": [
    "col=['BALANCE','PURCHASES','CASH_ADVANCE','TENURE','PAYMENTS','MINIMUM_PAYMENTS','PRC_FULL_PAYMENT','CREDIT_LIMIT']\n",
    "data_pre=data[[x for x in data.columns if x not in col ]]"
   ]
  },
  {
   "cell_type": "markdown",
   "metadata": {},
   "source": [
    "# Insights from new KPI"
   ]
  },
  {
   "cell_type": "markdown",
   "metadata": {},
   "source": [
    "#### 1. Customers who have installment purchases are due payers"
   ]
  },
  {
   "cell_type": "code",
   "execution_count": 17,
   "metadata": {},
   "outputs": [],
   "source": [
    "# Average payment_minpayment ratio for each purchse type.\n",
    "x = h.groupby('Purchase_Type').apply(lambda x: np.mean(x['payment_minpay']))\n"
   ]
  },
  {
   "cell_type": "code",
   "execution_count": 18,
   "metadata": {},
   "outputs": [
    {
     "data": {
      "text/plain": [
       "Text(0.5, 1.0, 'Average_payment_minpayment ratio for each purchase type')"
      ]
     },
     "execution_count": 18,
     "metadata": {},
     "output_type": "execute_result"
    },
    {
     "data": {
      "image/png": "[encoded data removed]",
      "text/plain": [
       "<Figure size 432x288 with 1 Axes>"
      ]
     },
     "metadata": {
      "needs_background": "light"
     },
     "output_type": "display_data"
    }
   ],
   "source": [
    "# histogram plots for Average payment_minpayment ratio\n",
    "#plt.barh(left=np.arange(len(x)),bottom=x.values)\n",
    "fig,ax=plt.subplots()\n",
    "ax.barh(y=range(len(x)),width=x.values)\n",
    "ax.set(yticks= np.arange(len(x)),yticklabels=x.index);\n",
    "plt.title('Average_payment_minpayment ratio for each purchase type')\n"
   ]
  },
  {
   "cell_type": "code",
   "execution_count": 161,
   "metadata": {},
   "outputs": [
    {
     "data": {
      "text/html": [
       "<div>\n",
       "<style scoped>\n",
       "    .dataframe tbody tr th:only-of-type {\n",
       "        vertical-align: middle;\n",
       "    }\n",
       "\n",
       "    .dataframe tbody tr th {\n",
       "        vertical-align: top;\n",
       "    }\n",
       "\n",
       "    .dataframe thead th {\n",
       "        text-align: right;\n",
       "    }\n",
       "</style>\n",
       "<table border=\"1\" class=\"dataframe\">\n",
       "  <thead>\n",
       "    <tr style=\"text-align: right;\">\n",
       "      <th></th>\n",
       "      <th>count</th>\n",
       "      <th>mean</th>\n",
       "      <th>std</th>\n",
       "      <th>min</th>\n",
       "      <th>25%</th>\n",
       "      <th>50%</th>\n",
       "      <th>75%</th>\n",
       "      <th>max</th>\n",
       "    </tr>\n",
       "  </thead>\n",
       "  <tbody>\n",
       "    <tr>\n",
       "      <th>BALANCE</th>\n",
       "      <td>8950.0</td>\n",
       "      <td>1564.474828</td>\n",
       "      <td>2081.531879</td>\n",
       "      <td>0.000000</td>\n",
       "      <td>128.281915</td>\n",
       "      <td>873.385231</td>\n",
       "      <td>2054.140036</td>\n",
       "      <td>19043.138560</td>\n",
       "    </tr>\n",
       "    <tr>\n",
       "      <th>BALANCE_FREQUENCY</th>\n",
       "      <td>8950.0</td>\n",
       "      <td>0.877271</td>\n",
       "      <td>0.236904</td>\n",
       "      <td>0.000000</td>\n",
       "      <td>0.888889</td>\n",
       "      <td>1.000000</td>\n",
       "      <td>1.000000</td>\n",
       "      <td>1.000000</td>\n",
       "    </tr>\n",
       "    <tr>\n",
       "      <th>PURCHASES</th>\n",
       "      <td>8950.0</td>\n",
       "      <td>1003.204834</td>\n",
       "      <td>2136.634782</td>\n",
       "      <td>0.000000</td>\n",
       "      <td>39.635000</td>\n",
       "      <td>361.280000</td>\n",
       "      <td>1110.130000</td>\n",
       "      <td>49039.570000</td>\n",
       "    </tr>\n",
       "    <tr>\n",
       "      <th>ONEOFF_PURCHASES</th>\n",
       "      <td>8950.0</td>\n",
       "      <td>592.437371</td>\n",
       "      <td>1659.887917</td>\n",
       "      <td>0.000000</td>\n",
       "      <td>0.000000</td>\n",
       "      <td>38.000000</td>\n",
       "      <td>577.405000</td>\n",
       "      <td>40761.250000</td>\n",
       "    </tr>\n",
       "    <tr>\n",
       "      <th>INSTALLMENTS_PURCHASES</th>\n",
       "      <td>8950.0</td>\n",
       "      <td>411.067645</td>\n",
       "      <td>904.338115</td>\n",
       "      <td>0.000000</td>\n",
       "      <td>0.000000</td>\n",
       "      <td>89.000000</td>\n",
       "      <td>468.637500</td>\n",
       "      <td>22500.000000</td>\n",
       "    </tr>\n",
       "    <tr>\n",
       "      <th>CASH_ADVANCE</th>\n",
       "      <td>8950.0</td>\n",
       "      <td>978.871112</td>\n",
       "      <td>2097.163877</td>\n",
       "      <td>0.000000</td>\n",
       "      <td>0.000000</td>\n",
       "      <td>0.000000</td>\n",
       "      <td>1113.821139</td>\n",
       "      <td>47137.211760</td>\n",
       "    </tr>\n",
       "    <tr>\n",
       "      <th>PURCHASES_FREQUENCY</th>\n",
       "      <td>8950.0</td>\n",
       "      <td>0.490351</td>\n",
       "      <td>0.401371</td>\n",
       "      <td>0.000000</td>\n",
       "      <td>0.083333</td>\n",
       "      <td>0.500000</td>\n",
       "      <td>0.916667</td>\n",
       "      <td>1.000000</td>\n",
       "    </tr>\n",
       "    <tr>\n",
       "      <th>ONEOFF_PURCHASES_FREQUENCY</th>\n",
       "      <td>8950.0</td>\n",
       "      <td>0.202458</td>\n",
       "      <td>0.298336</td>\n",
       "      <td>0.000000</td>\n",
       "      <td>0.000000</td>\n",
       "      <td>0.083333</td>\n",
       "      <td>0.300000</td>\n",
       "      <td>1.000000</td>\n",
       "    </tr>\n",
       "    <tr>\n",
       "      <th>PURCHASES_INSTALLMENTS_FREQUENCY</th>\n",
       "      <td>8950.0</td>\n",
       "      <td>0.364437</td>\n",
       "      <td>0.397448</td>\n",
       "      <td>0.000000</td>\n",
       "      <td>0.000000</td>\n",
       "      <td>0.166667</td>\n",
       "      <td>0.750000</td>\n",
       "      <td>1.000000</td>\n",
       "    </tr>\n",
       "    <tr>\n",
       "      <th>CASH_ADVANCE_FREQUENCY</th>\n",
       "      <td>8950.0</td>\n",
       "      <td>0.135144</td>\n",
       "      <td>0.200121</td>\n",
       "      <td>0.000000</td>\n",
       "      <td>0.000000</td>\n",
       "      <td>0.000000</td>\n",
       "      <td>0.222222</td>\n",
       "      <td>1.500000</td>\n",
       "    </tr>\n",
       "    <tr>\n",
       "      <th>CASH_ADVANCE_TRX</th>\n",
       "      <td>8950.0</td>\n",
       "      <td>3.248827</td>\n",
       "      <td>6.824647</td>\n",
       "      <td>0.000000</td>\n",
       "      <td>0.000000</td>\n",
       "      <td>0.000000</td>\n",
       "      <td>4.000000</td>\n",
       "      <td>123.000000</td>\n",
       "    </tr>\n",
       "    <tr>\n",
       "      <th>PURCHASES_TRX</th>\n",
       "      <td>8950.0</td>\n",
       "      <td>14.709832</td>\n",
       "      <td>24.857649</td>\n",
       "      <td>0.000000</td>\n",
       "      <td>1.000000</td>\n",
       "      <td>7.000000</td>\n",
       "      <td>17.000000</td>\n",
       "      <td>358.000000</td>\n",
       "    </tr>\n",
       "    <tr>\n",
       "      <th>CREDIT_LIMIT</th>\n",
       "      <td>8950.0</td>\n",
       "      <td>4494.282473</td>\n",
       "      <td>3638.646702</td>\n",
       "      <td>50.000000</td>\n",
       "      <td>1600.000000</td>\n",
       "      <td>3000.000000</td>\n",
       "      <td>6500.000000</td>\n",
       "      <td>30000.000000</td>\n",
       "    </tr>\n",
       "    <tr>\n",
       "      <th>PAYMENTS</th>\n",
       "      <td>8950.0</td>\n",
       "      <td>1733.143852</td>\n",
       "      <td>2895.063757</td>\n",
       "      <td>0.000000</td>\n",
       "      <td>383.276166</td>\n",
       "      <td>856.901546</td>\n",
       "      <td>1901.134317</td>\n",
       "      <td>50721.483360</td>\n",
       "    </tr>\n",
       "    <tr>\n",
       "      <th>MINIMUM_PAYMENTS</th>\n",
       "      <td>8950.0</td>\n",
       "      <td>844.906767</td>\n",
       "      <td>2332.792322</td>\n",
       "      <td>0.019163</td>\n",
       "      <td>170.857654</td>\n",
       "      <td>312.343947</td>\n",
       "      <td>788.713501</td>\n",
       "      <td>76406.207520</td>\n",
       "    </tr>\n",
       "    <tr>\n",
       "      <th>PRC_FULL_PAYMENT</th>\n",
       "      <td>8950.0</td>\n",
       "      <td>0.153715</td>\n",
       "      <td>0.292499</td>\n",
       "      <td>0.000000</td>\n",
       "      <td>0.000000</td>\n",
       "      <td>0.000000</td>\n",
       "      <td>0.142857</td>\n",
       "      <td>1.000000</td>\n",
       "    </tr>\n",
       "    <tr>\n",
       "      <th>TENURE</th>\n",
       "      <td>8950.0</td>\n",
       "      <td>11.517318</td>\n",
       "      <td>1.338331</td>\n",
       "      <td>6.000000</td>\n",
       "      <td>12.000000</td>\n",
       "      <td>12.000000</td>\n",
       "      <td>12.000000</td>\n",
       "      <td>12.000000</td>\n",
       "    </tr>\n",
       "    <tr>\n",
       "      <th>Monthly_avg_purchase</th>\n",
       "      <td>8950.0</td>\n",
       "      <td>86.175173</td>\n",
       "      <td>180.508787</td>\n",
       "      <td>0.000000</td>\n",
       "      <td>3.399375</td>\n",
       "      <td>31.936667</td>\n",
       "      <td>97.228333</td>\n",
       "      <td>4086.630833</td>\n",
       "    </tr>\n",
       "    <tr>\n",
       "      <th>Monthly_cash_advance</th>\n",
       "      <td>8950.0</td>\n",
       "      <td>88.977984</td>\n",
       "      <td>193.136115</td>\n",
       "      <td>0.000000</td>\n",
       "      <td>0.000000</td>\n",
       "      <td>0.000000</td>\n",
       "      <td>99.085196</td>\n",
       "      <td>3928.100980</td>\n",
       "    </tr>\n",
       "    <tr>\n",
       "      <th>limit_usage</th>\n",
       "      <td>8950.0</td>\n",
       "      <td>0.388884</td>\n",
       "      <td>0.389722</td>\n",
       "      <td>0.000000</td>\n",
       "      <td>0.041494</td>\n",
       "      <td>0.302720</td>\n",
       "      <td>0.717571</td>\n",
       "      <td>15.909951</td>\n",
       "    </tr>\n",
       "    <tr>\n",
       "      <th>payment_minpay</th>\n",
       "      <td>8950.0</td>\n",
       "      <td>9.059164</td>\n",
       "      <td>118.180526</td>\n",
       "      <td>0.000000</td>\n",
       "      <td>0.913275</td>\n",
       "      <td>2.032717</td>\n",
       "      <td>6.052729</td>\n",
       "      <td>6840.528861</td>\n",
       "    </tr>\n",
       "  </tbody>\n",
       "</table>\n",
       "</div>"
      ],
      "text/plain": [
       "                                   count         mean          std        min  \\\n",
       "BALANCE                           8950.0  1564.474828  2081.531879   0.000000   \n",
       "BALANCE_FREQUENCY                 8950.0     0.877271     0.236904   0.000000   \n",
       "PURCHASES                         8950.0  1003.204834  2136.634782   0.000000   \n",
       "ONEOFF_PURCHASES                  8950.0   592.437371  1659.887917   0.000000   \n",
       "INSTALLMENTS_PURCHASES            8950.0   411.067645   904.338115   0.000000   \n",
       "CASH_ADVANCE                      8950.0   978.871112  2097.163877   0.000000   \n",
       "PURCHASES_FREQUENCY               8950.0     0.490351     0.401371   0.000000   \n",
       "ONEOFF_PURCHASES_FREQUENCY        8950.0     0.202458     0.298336   0.000000   \n",
       "PURCHASES_INSTALLMENTS_FREQUENCY  8950.0     0.364437     0.397448   0.000000   \n",
       "CASH_ADVANCE_FREQUENCY            8950.0     0.135144     0.200121   0.000000   \n",
       "CASH_ADVANCE_TRX                  8950.0     3.248827     6.824647   0.000000   \n",
       "PURCHASES_TRX                     8950.0    14.709832    24.857649   0.000000   \n",
       "CREDIT_LIMIT                      8950.0  4494.282473  3638.646702  50.000000   \n",
       "PAYMENTS                          8950.0  1733.143852  2895.063757   0.000000   \n",
       "MINIMUM_PAYMENTS                  8950.0   844.906767  2332.792322   0.019163   \n",
       "PRC_FULL_PAYMENT                  8950.0     0.153715     0.292499   0.000000   \n",
       "TENURE                            8950.0    11.517318     1.338331   6.000000   \n",
       "Monthly_avg_purchase              8950.0    86.175173   180.508787   0.000000   \n",
       "Monthly_cash_advance              8950.0    88.977984   193.136115   0.000000   \n",
       "limit_usage                       8950.0     0.388884     0.389722   0.000000   \n",
       "payment_minpay                    8950.0     9.059164   118.180526   0.000000   \n",
       "\n",
       "                                          25%          50%          75%  \\\n",
       "BALANCE                            128.281915   873.385231  2054.140036   \n",
       "BALANCE_FREQUENCY                    0.888889     1.000000     1.000000   \n",
       "PURCHASES                           39.635000   361.280000  1110.130000   \n",
       "ONEOFF_PURCHASES                     0.000000    38.000000   577.405000   \n",
       "INSTALLMENTS_PURCHASES               0.000000    89.000000   468.637500   \n",
       "CASH_ADVANCE                         0.000000     0.000000  1113.821139   \n",
       "PURCHASES_FREQUENCY                  0.083333     0.500000     0.916667   \n",
       "ONEOFF_PURCHASES_FREQUENCY           0.000000     0.083333     0.300000   \n",
       "PURCHASES_INSTALLMENTS_FREQUENCY     0.000000     0.166667     0.750000   \n",
       "CASH_ADVANCE_FREQUENCY               0.000000     0.000000     0.222222   \n",
       "CASH_ADVANCE_TRX                     0.000000     0.000000     4.000000   \n",
       "PURCHASES_TRX                        1.000000     7.000000    17.000000   \n",
       "CREDIT_LIMIT                      1600.000000  3000.000000  6500.000000   \n",
       "PAYMENTS                           383.276166   856.901546  1901.134317   \n",
       "MINIMUM_PAYMENTS                   170.857654   312.343947   788.713501   \n",
       "PRC_FULL_PAYMENT                     0.000000     0.000000     0.142857   \n",
       "TENURE                              12.000000    12.000000    12.000000   \n",
       "Monthly_avg_purchase                 3.399375    31.936667    97.228333   \n",
       "Monthly_cash_advance                 0.000000     0.000000    99.085196   \n",
       "limit_usage                          0.041494     0.302720     0.717571   \n",
       "payment_minpay                       0.913275     2.032717     6.052729   \n",
       "\n",
       "                                           max  \n",
       "BALANCE                           19043.138560  \n",
       "BALANCE_FREQUENCY                     1.000000  \n",
       "PURCHASES                         49039.570000  \n",
       "ONEOFF_PURCHASES                  40761.250000  \n",
       "INSTALLMENTS_PURCHASES            22500.000000  \n",
       "CASH_ADVANCE                      47137.211760  \n",
       "PURCHASES_FREQUENCY                   1.000000  \n",
       "ONEOFF_PURCHASES_FREQUENCY            1.000000  \n",
       "PURCHASES_INSTALLMENTS_FREQUENCY      1.000000  \n",
       "CASH_ADVANCE_FREQUENCY                1.500000  \n",
       "CASH_ADVANCE_TRX                    123.000000  \n",
       "PURCHASES_TRX                       358.000000  \n",
       "CREDIT_LIMIT                      30000.000000  \n",
       "PAYMENTS                          50721.483360  \n",
       "MINIMUM_PAYMENTS                  76406.207520  \n",
       "PRC_FULL_PAYMENT                      1.000000  \n",
       "TENURE                               12.000000  \n",
       "Monthly_avg_purchase               4086.630833  \n",
       "Monthly_cash_advance               3928.100980  \n",
       "limit_usage                          15.909951  \n",
       "payment_minpay                     6840.528861  "
      ]
     },
     "execution_count": 161,
     "metadata": {},
     "output_type": "execute_result"
    }
   ],
   "source": [
    "h.describe().T"
   ]
  },
  {
   "cell_type": "code",
   "execution_count": 162,
   "metadata": {},
   "outputs": [
    {
     "data": {
      "text/plain": [
       "Index(['CUST_ID', 'BALANCE', 'BALANCE_FREQUENCY', 'PURCHASES',\n",
       "       'ONEOFF_PURCHASES', 'INSTALLMENTS_PURCHASES', 'CASH_ADVANCE',\n",
       "       'PURCHASES_FREQUENCY', 'ONEOFF_PURCHASES_FREQUENCY',\n",
       "       'PURCHASES_INSTALLMENTS_FREQUENCY', 'CASH_ADVANCE_FREQUENCY',\n",
       "       'CASH_ADVANCE_TRX', 'PURCHASES_TRX', 'CREDIT_LIMIT', 'PAYMENTS',\n",
       "       'MINIMUM_PAYMENTS', 'PRC_FULL_PAYMENT', 'TENURE',\n",
       "       'Monthly_avg_purchase', 'Monthly_cash_advance', 'Purchase_Type',\n",
       "       'limit_usage', 'payment_minpay'],\n",
       "      dtype='object')"
      ]
     },
     "execution_count": 162,
     "metadata": {},
     "output_type": "execute_result"
    }
   ],
   "source": [
    "h.columns"
   ]
  },
  {
   "cell_type": "markdown",
   "metadata": {},
   "source": [
    "####  2.Customers who don't do either online/offline purchases or installment purchases take more cash on advance."
   ]
  },
  {
   "cell_type": "code",
   "execution_count": 19,
   "metadata": {},
   "outputs": [
    {
     "data": {
      "text/plain": [
       "Text(0.5, 1.0, 'Average cash advance taken by customers of different Purchase type : Both online/offline & Installments, None,Installments,Online/Offline')"
      ]
     },
     "execution_count": 19,
     "metadata": {},
     "output_type": "execute_result"
    },
    {
     "data": {
      "image/png": "[encoded data removed]",
      "text/plain": [
       "<Figure size 432x288 with 1 Axes>"
      ]
     },
     "metadata": {
      "needs_background": "light"
     },
     "output_type": "display_data"
    }
   ],
   "source": [
    "h.groupby('Purchase_Type').apply(lambda x: np.mean(x['Monthly_cash_advance'])).plot.barh()\n",
    "\n",
    "plt.title('Average cash advance taken by customers of different Purchase type : Both online/offline & Installments, None,Installments,Online/Offline')"
   ]
  },
  {
   "cell_type": "markdown",
   "metadata": {},
   "source": [
    "#### 3. Customers with installment purchases have a good credit score "
   ]
  },
  {
   "cell_type": "code",
   "execution_count": 20,
   "metadata": {},
   "outputs": [
    {
     "data": {
      "text/plain": [
       "<matplotlib.axes._subplots.AxesSubplot at 0x17daf12d898>"
      ]
     },
     "execution_count": 20,
     "metadata": {},
     "output_type": "execute_result"
    },
    {
     "data": {
      "image/png": "[encoded data removed]",
      "text/plain": [
       "<Figure size 432x288 with 1 Axes>"
      ]
     },
     "metadata": {
      "needs_background": "light"
     },
     "output_type": "display_data"
    }
   ],
   "source": [
    "h.groupby('Purchase_Type').apply(lambda x: np.mean(x['limit_usage'])).plot.barh()"
   ]
  },
  {
   "cell_type": "markdown",
   "metadata": {},
   "source": [
    "The type of customer with low limit-usage value has good credit score"
   ]
  },
  {
   "cell_type": "code",
   "execution_count": 165,
   "metadata": {},
   "outputs": [
    {
     "data": {
      "text/html": [
       "<div>\n",
       "<style scoped>\n",
       "    .dataframe tbody tr th:only-of-type {\n",
       "        vertical-align: middle;\n",
       "    }\n",
       "\n",
       "    .dataframe tbody tr th {\n",
       "        vertical-align: top;\n",
       "    }\n",
       "\n",
       "    .dataframe thead th {\n",
       "        text-align: right;\n",
       "    }\n",
       "</style>\n",
       "<table border=\"1\" class=\"dataframe\">\n",
       "  <thead>\n",
       "    <tr style=\"text-align: right;\">\n",
       "      <th></th>\n",
       "      <th>CUST_ID</th>\n",
       "      <th>BALANCE</th>\n",
       "      <th>BALANCE_FREQUENCY</th>\n",
       "      <th>PURCHASES</th>\n",
       "      <th>ONEOFF_PURCHASES</th>\n",
       "      <th>INSTALLMENTS_PURCHASES</th>\n",
       "      <th>CASH_ADVANCE</th>\n",
       "      <th>PURCHASES_FREQUENCY</th>\n",
       "      <th>ONEOFF_PURCHASES_FREQUENCY</th>\n",
       "      <th>PURCHASES_INSTALLMENTS_FREQUENCY</th>\n",
       "      <th>...</th>\n",
       "      <th>CREDIT_LIMIT</th>\n",
       "      <th>PAYMENTS</th>\n",
       "      <th>MINIMUM_PAYMENTS</th>\n",
       "      <th>PRC_FULL_PAYMENT</th>\n",
       "      <th>TENURE</th>\n",
       "      <th>Monthly_avg_purchase</th>\n",
       "      <th>Monthly_cash_advance</th>\n",
       "      <th>Purchase_Type</th>\n",
       "      <th>limit_usage</th>\n",
       "      <th>payment_minpay</th>\n",
       "    </tr>\n",
       "  </thead>\n",
       "  <tbody>\n",
       "    <tr>\n",
       "      <th>0</th>\n",
       "      <td>C10001</td>\n",
       "      <td>40.900749</td>\n",
       "      <td>0.818182</td>\n",
       "      <td>95.40</td>\n",
       "      <td>0.00</td>\n",
       "      <td>95.4</td>\n",
       "      <td>0.000000</td>\n",
       "      <td>0.166667</td>\n",
       "      <td>0.000000</td>\n",
       "      <td>0.083333</td>\n",
       "      <td>...</td>\n",
       "      <td>1000.0</td>\n",
       "      <td>201.802084</td>\n",
       "      <td>139.509787</td>\n",
       "      <td>0.000000</td>\n",
       "      <td>12</td>\n",
       "      <td>7.950000</td>\n",
       "      <td>0.000000</td>\n",
       "      <td>installment</td>\n",
       "      <td>0.040901</td>\n",
       "      <td>1.446508</td>\n",
       "    </tr>\n",
       "    <tr>\n",
       "      <th>1</th>\n",
       "      <td>C10002</td>\n",
       "      <td>3202.467416</td>\n",
       "      <td>0.909091</td>\n",
       "      <td>0.00</td>\n",
       "      <td>0.00</td>\n",
       "      <td>0.0</td>\n",
       "      <td>6442.945483</td>\n",
       "      <td>0.000000</td>\n",
       "      <td>0.000000</td>\n",
       "      <td>0.000000</td>\n",
       "      <td>...</td>\n",
       "      <td>7000.0</td>\n",
       "      <td>4103.032597</td>\n",
       "      <td>1072.340217</td>\n",
       "      <td>0.222222</td>\n",
       "      <td>12</td>\n",
       "      <td>0.000000</td>\n",
       "      <td>536.912124</td>\n",
       "      <td>none</td>\n",
       "      <td>0.457495</td>\n",
       "      <td>3.826241</td>\n",
       "    </tr>\n",
       "    <tr>\n",
       "      <th>2</th>\n",
       "      <td>C10003</td>\n",
       "      <td>2495.148862</td>\n",
       "      <td>1.000000</td>\n",
       "      <td>773.17</td>\n",
       "      <td>773.17</td>\n",
       "      <td>0.0</td>\n",
       "      <td>0.000000</td>\n",
       "      <td>1.000000</td>\n",
       "      <td>1.000000</td>\n",
       "      <td>0.000000</td>\n",
       "      <td>...</td>\n",
       "      <td>7500.0</td>\n",
       "      <td>622.066742</td>\n",
       "      <td>627.284787</td>\n",
       "      <td>0.000000</td>\n",
       "      <td>12</td>\n",
       "      <td>64.430833</td>\n",
       "      <td>0.000000</td>\n",
       "      <td>online/offline_Purchases</td>\n",
       "      <td>0.332687</td>\n",
       "      <td>0.991682</td>\n",
       "    </tr>\n",
       "    <tr>\n",
       "      <th>3</th>\n",
       "      <td>C10004</td>\n",
       "      <td>1666.670542</td>\n",
       "      <td>0.636364</td>\n",
       "      <td>1499.00</td>\n",
       "      <td>1499.00</td>\n",
       "      <td>0.0</td>\n",
       "      <td>205.788017</td>\n",
       "      <td>0.083333</td>\n",
       "      <td>0.083333</td>\n",
       "      <td>0.000000</td>\n",
       "      <td>...</td>\n",
       "      <td>7500.0</td>\n",
       "      <td>0.000000</td>\n",
       "      <td>312.343947</td>\n",
       "      <td>0.000000</td>\n",
       "      <td>12</td>\n",
       "      <td>124.916667</td>\n",
       "      <td>17.149001</td>\n",
       "      <td>online/offline_Purchases</td>\n",
       "      <td>0.222223</td>\n",
       "      <td>0.000000</td>\n",
       "    </tr>\n",
       "    <tr>\n",
       "      <th>4</th>\n",
       "      <td>C10005</td>\n",
       "      <td>817.714335</td>\n",
       "      <td>1.000000</td>\n",
       "      <td>16.00</td>\n",
       "      <td>16.00</td>\n",
       "      <td>0.0</td>\n",
       "      <td>0.000000</td>\n",
       "      <td>0.083333</td>\n",
       "      <td>0.083333</td>\n",
       "      <td>0.000000</td>\n",
       "      <td>...</td>\n",
       "      <td>1200.0</td>\n",
       "      <td>678.334763</td>\n",
       "      <td>244.791237</td>\n",
       "      <td>0.000000</td>\n",
       "      <td>12</td>\n",
       "      <td>1.333333</td>\n",
       "      <td>0.000000</td>\n",
       "      <td>online/offline_Purchases</td>\n",
       "      <td>0.681429</td>\n",
       "      <td>2.771075</td>\n",
       "    </tr>\n",
       "  </tbody>\n",
       "</table>\n",
       "<p>5 rows × 23 columns</p>\n",
       "</div>"
      ],
      "text/plain": [
       "  CUST_ID      BALANCE  BALANCE_FREQUENCY  PURCHASES  ONEOFF_PURCHASES  \\\n",
       "0  C10001    40.900749           0.818182      95.40              0.00   \n",
       "1  C10002  3202.467416           0.909091       0.00              0.00   \n",
       "2  C10003  2495.148862           1.000000     773.17            773.17   \n",
       "3  C10004  1666.670542           0.636364    1499.00           1499.00   \n",
       "4  C10005   817.714335           1.000000      16.00             16.00   \n",
       "\n",
       "   INSTALLMENTS_PURCHASES  CASH_ADVANCE  PURCHASES_FREQUENCY  \\\n",
       "0                    95.4      0.000000             0.166667   \n",
       "1                     0.0   6442.945483             0.000000   \n",
       "2                     0.0      0.000000             1.000000   \n",
       "3                     0.0    205.788017             0.083333   \n",
       "4                     0.0      0.000000             0.083333   \n",
       "\n",
       "   ONEOFF_PURCHASES_FREQUENCY  PURCHASES_INSTALLMENTS_FREQUENCY  \\\n",
       "0                    0.000000                          0.083333   \n",
       "1                    0.000000                          0.000000   \n",
       "2                    1.000000                          0.000000   \n",
       "3                    0.083333                          0.000000   \n",
       "4                    0.083333                          0.000000   \n",
       "\n",
       "        ...        CREDIT_LIMIT     PAYMENTS  MINIMUM_PAYMENTS  \\\n",
       "0       ...              1000.0   201.802084        139.509787   \n",
       "1       ...              7000.0  4103.032597       1072.340217   \n",
       "2       ...              7500.0   622.066742        627.284787   \n",
       "3       ...              7500.0     0.000000        312.343947   \n",
       "4       ...              1200.0   678.334763        244.791237   \n",
       "\n",
       "   PRC_FULL_PAYMENT  TENURE  Monthly_avg_purchase  Monthly_cash_advance  \\\n",
       "0          0.000000      12              7.950000              0.000000   \n",
       "1          0.222222      12              0.000000            536.912124   \n",
       "2          0.000000      12             64.430833              0.000000   \n",
       "3          0.000000      12            124.916667             17.149001   \n",
       "4          0.000000      12              1.333333              0.000000   \n",
       "\n",
       "              Purchase_Type  limit_usage  payment_minpay  \n",
       "0               installment     0.040901        1.446508  \n",
       "1                      none     0.457495        3.826241  \n",
       "2  online/offline_Purchases     0.332687        0.991682  \n",
       "3  online/offline_Purchases     0.222223        0.000000  \n",
       "4  online/offline_Purchases     0.681429        2.771075  \n",
       "\n",
       "[5 rows x 23 columns]"
      ]
     },
     "execution_count": 165,
     "metadata": {},
     "output_type": "execute_result"
    }
   ],
   "source": [
    "h.head()"
   ]
  },
  {
   "cell_type": "markdown",
   "metadata": {},
   "source": [
    "# Tunning Model  "
   ]
  },
  {
   "cell_type": "code",
   "execution_count": 166,
   "metadata": {},
   "outputs": [
    {
     "name": "stdout",
     "output_type": "stream",
     "text": [
      "<class 'pandas.core.frame.DataFrame'>\n",
      "RangeIndex: 8950 entries, 0 to 8949\n",
      "Data columns (total 13 columns):\n",
      "BALANCE_FREQUENCY                   8950 non-null float64\n",
      "ONEOFF_PURCHASES                    8950 non-null float64\n",
      "INSTALLMENTS_PURCHASES              8950 non-null float64\n",
      "PURCHASES_FREQUENCY                 8950 non-null float64\n",
      "ONEOFF_PURCHASES_FREQUENCY          8950 non-null float64\n",
      "PURCHASES_INSTALLMENTS_FREQUENCY    8950 non-null float64\n",
      "CASH_ADVANCE_FREQUENCY              8950 non-null float64\n",
      "CASH_ADVANCE_TRX                    8950 non-null float64\n",
      "PURCHASES_TRX                       8950 non-null float64\n",
      "Monthly_avg_purchase                8950 non-null float64\n",
      "Monthly_cash_advance                8950 non-null float64\n",
      "limit_usage                         8950 non-null float64\n",
      "payment_minpay                      8950 non-null float64\n",
      "dtypes: float64(13)\n",
      "memory usage: 909.1 KB\n"
     ]
    }
   ],
   "source": [
    "data_pre.info()"
   ]
  },
  {
   "cell_type": "code",
   "execution_count": 167,
   "metadata": {},
   "outputs": [
    {
     "data": {
      "text/plain": [
       "Index(['CUST_ID', 'BALANCE', 'BALANCE_FREQUENCY', 'PURCHASES',\n",
       "       'ONEOFF_PURCHASES', 'INSTALLMENTS_PURCHASES', 'CASH_ADVANCE',\n",
       "       'PURCHASES_FREQUENCY', 'ONEOFF_PURCHASES_FREQUENCY',\n",
       "       'PURCHASES_INSTALLMENTS_FREQUENCY', 'CASH_ADVANCE_FREQUENCY',\n",
       "       'CASH_ADVANCE_TRX', 'PURCHASES_TRX', 'CREDIT_LIMIT', 'PAYMENTS',\n",
       "       'MINIMUM_PAYMENTS', 'PRC_FULL_PAYMENT', 'TENURE',\n",
       "       'Monthly_avg_purchase', 'Monthly_cash_advance', 'Purchase_Type',\n",
       "       'limit_usage', 'payment_minpay'],\n",
       "      dtype='object')"
      ]
     },
     "execution_count": 167,
     "metadata": {},
     "output_type": "execute_result"
    }
   ],
   "source": [
    "h.columns"
   ]
  },
  {
   "cell_type": "code",
   "execution_count": 21,
   "metadata": {},
   "outputs": [],
   "source": [
    "# Original dataset with categorical column converted to number type.\n",
    "data_original=pd.concat([h,pd.get_dummies(h['Purchase_Type'])],axis=1)"
   ]
  },
  {
   "cell_type": "code",
   "execution_count": 22,
   "metadata": {},
   "outputs": [
    {
     "name": "stderr",
     "output_type": "stream",
     "text": [
      "C:\\Users\\Hp\\Anaconda3\\lib\\site-packages\\ipykernel_launcher.py:2: SettingWithCopyWarning: \n",
      "A value is trying to be set on a copy of a slice from a DataFrame.\n",
      "Try using .loc[row_indexer,col_indexer] = value instead\n",
      "\n",
      "See the caveats in the documentation: http://pandas.pydata.org/pandas-docs/stable/indexing.html#indexing-view-versus-copy\n",
      "  \n"
     ]
    }
   ],
   "source": [
    "# creating Dummies for categorical variable\n",
    "data_pre['Purchase_Type']=h.loc[:,'Purchase_Type']\n"
   ]
  },
  {
   "cell_type": "code",
   "execution_count": 23,
   "metadata": {},
   "outputs": [
    {
     "data": {
      "text/html": [
       "<div>\n",
       "<style scoped>\n",
       "    .dataframe tbody tr th:only-of-type {\n",
       "        vertical-align: middle;\n",
       "    }\n",
       "\n",
       "    .dataframe tbody tr th {\n",
       "        vertical-align: top;\n",
       "    }\n",
       "\n",
       "    .dataframe thead th {\n",
       "        text-align: right;\n",
       "    }\n",
       "</style>\n",
       "<table border=\"1\" class=\"dataframe\">\n",
       "  <thead>\n",
       "    <tr style=\"text-align: right;\">\n",
       "      <th></th>\n",
       "      <th>both_online/offline_installment</th>\n",
       "      <th>installment</th>\n",
       "      <th>none</th>\n",
       "      <th>online/offline_Purchases</th>\n",
       "    </tr>\n",
       "  </thead>\n",
       "  <tbody>\n",
       "    <tr>\n",
       "      <th>0</th>\n",
       "      <td>0</td>\n",
       "      <td>1</td>\n",
       "      <td>0</td>\n",
       "      <td>0</td>\n",
       "    </tr>\n",
       "    <tr>\n",
       "      <th>1</th>\n",
       "      <td>0</td>\n",
       "      <td>0</td>\n",
       "      <td>1</td>\n",
       "      <td>0</td>\n",
       "    </tr>\n",
       "    <tr>\n",
       "      <th>2</th>\n",
       "      <td>0</td>\n",
       "      <td>0</td>\n",
       "      <td>0</td>\n",
       "      <td>1</td>\n",
       "    </tr>\n",
       "    <tr>\n",
       "      <th>3</th>\n",
       "      <td>0</td>\n",
       "      <td>0</td>\n",
       "      <td>0</td>\n",
       "      <td>1</td>\n",
       "    </tr>\n",
       "    <tr>\n",
       "      <th>4</th>\n",
       "      <td>0</td>\n",
       "      <td>0</td>\n",
       "      <td>0</td>\n",
       "      <td>1</td>\n",
       "    </tr>\n",
       "  </tbody>\n",
       "</table>\n",
       "</div>"
      ],
      "text/plain": [
       "   both_online/offline_installment  installment  none  \\\n",
       "0                                0            1     0   \n",
       "1                                0            0     1   \n",
       "2                                0            0     0   \n",
       "3                                0            0     0   \n",
       "4                                0            0     0   \n",
       "\n",
       "   online/offline_Purchases  \n",
       "0                         0  \n",
       "1                         0  \n",
       "2                         1  \n",
       "3                         1  \n",
       "4                         1  "
      ]
     },
     "execution_count": 23,
     "metadata": {},
     "output_type": "execute_result"
    }
   ],
   "source": [
    "pd.get_dummies(data_pre['Purchase_Type']).head()"
   ]
  },
  {
   "cell_type": "code",
   "execution_count": 24,
   "metadata": {},
   "outputs": [],
   "source": [
    "data_dummy=pd.concat([data_pre,pd.get_dummies(data_pre['Purchase_Type'])],axis=1)"
   ]
  },
  {
   "cell_type": "code",
   "execution_count": 172,
   "metadata": {},
   "outputs": [
    {
     "name": "stdout",
     "output_type": "stream",
     "text": [
      "<class 'pandas.core.frame.DataFrame'>\n",
      "RangeIndex: 8950 entries, 0 to 8949\n",
      "Data columns (total 18 columns):\n",
      "BALANCE_FREQUENCY                   8950 non-null float64\n",
      "ONEOFF_PURCHASES                    8950 non-null float64\n",
      "INSTALLMENTS_PURCHASES              8950 non-null float64\n",
      "PURCHASES_FREQUENCY                 8950 non-null float64\n",
      "ONEOFF_PURCHASES_FREQUENCY          8950 non-null float64\n",
      "PURCHASES_INSTALLMENTS_FREQUENCY    8950 non-null float64\n",
      "CASH_ADVANCE_FREQUENCY              8950 non-null float64\n",
      "CASH_ADVANCE_TRX                    8950 non-null float64\n",
      "PURCHASES_TRX                       8950 non-null float64\n",
      "Monthly_avg_purchase                8950 non-null float64\n",
      "Monthly_cash_advance                8950 non-null float64\n",
      "limit_usage                         8950 non-null float64\n",
      "payment_minpay                      8950 non-null float64\n",
      "Purchase_Type                       8950 non-null object\n",
      "both_online/offline_installment     8950 non-null uint8\n",
      "installment                         8950 non-null uint8\n",
      "none                                8950 non-null uint8\n",
      "online/offline_Purchases            8950 non-null uint8\n",
      "dtypes: float64(13), object(1), uint8(4)\n",
      "memory usage: 1013.9+ KB\n"
     ]
    }
   ],
   "source": [
    "data_dummy.info()"
   ]
  },
  {
   "cell_type": "code",
   "execution_count": 25,
   "metadata": {},
   "outputs": [],
   "source": [
    "data_dummy=data_dummy.drop(['Purchase_Type'],axis=1)"
   ]
  },
  {
   "cell_type": "code",
   "execution_count": 174,
   "metadata": {},
   "outputs": [
    {
     "data": {
      "text/plain": [
       "(8950, 17)"
      ]
     },
     "execution_count": 174,
     "metadata": {},
     "output_type": "execute_result"
    }
   ],
   "source": [
    "data_dummy.shape"
   ]
  },
  {
   "cell_type": "code",
   "execution_count": 26,
   "metadata": {},
   "outputs": [
    {
     "data": {
      "text/plain": [
       "BALANCE_FREQUENCY                   0\n",
       "ONEOFF_PURCHASES                    0\n",
       "INSTALLMENTS_PURCHASES              0\n",
       "PURCHASES_FREQUENCY                 0\n",
       "ONEOFF_PURCHASES_FREQUENCY          0\n",
       "PURCHASES_INSTALLMENTS_FREQUENCY    0\n",
       "CASH_ADVANCE_FREQUENCY              0\n",
       "CASH_ADVANCE_TRX                    0\n",
       "PURCHASES_TRX                       0\n",
       "Monthly_avg_purchase                0\n",
       "Monthly_cash_advance                0\n",
       "limit_usage                         0\n",
       "payment_minpay                      0\n",
       "both_online/offline_installment     0\n",
       "installment                         0\n",
       "none                                0\n",
       "online/offline_Purchases            0\n",
       "dtype: int64"
      ]
     },
     "execution_count": 26,
     "metadata": {},
     "output_type": "execute_result"
    }
   ],
   "source": [
    "data_dummy.isnull().sum()"
   ]
  },
  {
   "cell_type": "code",
   "execution_count": 176,
   "metadata": {},
   "outputs": [
    {
     "data": {
      "text/html": [
       "<div>\n",
       "<style scoped>\n",
       "    .dataframe tbody tr th:only-of-type {\n",
       "        vertical-align: middle;\n",
       "    }\n",
       "\n",
       "    .dataframe tbody tr th {\n",
       "        vertical-align: top;\n",
       "    }\n",
       "\n",
       "    .dataframe thead th {\n",
       "        text-align: right;\n",
       "    }\n",
       "</style>\n",
       "<table border=\"1\" class=\"dataframe\">\n",
       "  <thead>\n",
       "    <tr style=\"text-align: right;\">\n",
       "      <th></th>\n",
       "      <th>BALANCE_FREQUENCY</th>\n",
       "      <th>ONEOFF_PURCHASES</th>\n",
       "      <th>INSTALLMENTS_PURCHASES</th>\n",
       "      <th>PURCHASES_FREQUENCY</th>\n",
       "      <th>ONEOFF_PURCHASES_FREQUENCY</th>\n",
       "      <th>PURCHASES_INSTALLMENTS_FREQUENCY</th>\n",
       "      <th>CASH_ADVANCE_FREQUENCY</th>\n",
       "      <th>CASH_ADVANCE_TRX</th>\n",
       "      <th>PURCHASES_TRX</th>\n",
       "      <th>Monthly_avg_purchase</th>\n",
       "      <th>Monthly_cash_advance</th>\n",
       "      <th>limit_usage</th>\n",
       "      <th>payment_minpay</th>\n",
       "      <th>both_online/offline_installment</th>\n",
       "      <th>installment</th>\n",
       "      <th>none</th>\n",
       "      <th>online/offline_Purchases</th>\n",
       "    </tr>\n",
       "  </thead>\n",
       "  <tbody>\n",
       "    <tr>\n",
       "      <th>count</th>\n",
       "      <td>8950.000000</td>\n",
       "      <td>8950.000000</td>\n",
       "      <td>8950.000000</td>\n",
       "      <td>8950.000000</td>\n",
       "      <td>8950.000000</td>\n",
       "      <td>8950.000000</td>\n",
       "      <td>8950.000000</td>\n",
       "      <td>8950.000000</td>\n",
       "      <td>8950.000000</td>\n",
       "      <td>8950.000000</td>\n",
       "      <td>8950.000000</td>\n",
       "      <td>8950.000000</td>\n",
       "      <td>8950.000000</td>\n",
       "      <td>8950.000000</td>\n",
       "      <td>8950.000000</td>\n",
       "      <td>8950.000000</td>\n",
       "      <td>8950.000000</td>\n",
       "    </tr>\n",
       "    <tr>\n",
       "      <th>mean</th>\n",
       "      <td>0.619940</td>\n",
       "      <td>3.204274</td>\n",
       "      <td>3.352403</td>\n",
       "      <td>0.361268</td>\n",
       "      <td>0.158699</td>\n",
       "      <td>0.270072</td>\n",
       "      <td>0.113512</td>\n",
       "      <td>0.817570</td>\n",
       "      <td>1.894731</td>\n",
       "      <td>3.050877</td>\n",
       "      <td>2.163970</td>\n",
       "      <td>0.296081</td>\n",
       "      <td>1.357600</td>\n",
       "      <td>0.309944</td>\n",
       "      <td>0.252514</td>\n",
       "      <td>0.228156</td>\n",
       "      <td>0.209385</td>\n",
       "    </tr>\n",
       "    <tr>\n",
       "      <th>std</th>\n",
       "      <td>0.148590</td>\n",
       "      <td>3.246365</td>\n",
       "      <td>3.082973</td>\n",
       "      <td>0.277317</td>\n",
       "      <td>0.216672</td>\n",
       "      <td>0.281852</td>\n",
       "      <td>0.156716</td>\n",
       "      <td>1.009316</td>\n",
       "      <td>1.373856</td>\n",
       "      <td>2.002823</td>\n",
       "      <td>2.429741</td>\n",
       "      <td>0.250303</td>\n",
       "      <td>0.940149</td>\n",
       "      <td>0.462496</td>\n",
       "      <td>0.434479</td>\n",
       "      <td>0.419667</td>\n",
       "      <td>0.406893</td>\n",
       "    </tr>\n",
       "    <tr>\n",
       "      <th>min</th>\n",
       "      <td>0.000000</td>\n",
       "      <td>0.000000</td>\n",
       "      <td>0.000000</td>\n",
       "      <td>0.000000</td>\n",
       "      <td>0.000000</td>\n",
       "      <td>0.000000</td>\n",
       "      <td>0.000000</td>\n",
       "      <td>0.000000</td>\n",
       "      <td>0.000000</td>\n",
       "      <td>0.000000</td>\n",
       "      <td>0.000000</td>\n",
       "      <td>0.000000</td>\n",
       "      <td>0.000000</td>\n",
       "      <td>0.000000</td>\n",
       "      <td>0.000000</td>\n",
       "      <td>0.000000</td>\n",
       "      <td>0.000000</td>\n",
       "    </tr>\n",
       "    <tr>\n",
       "      <th>25%</th>\n",
       "      <td>0.635989</td>\n",
       "      <td>0.000000</td>\n",
       "      <td>0.000000</td>\n",
       "      <td>0.080042</td>\n",
       "      <td>0.000000</td>\n",
       "      <td>0.000000</td>\n",
       "      <td>0.000000</td>\n",
       "      <td>0.000000</td>\n",
       "      <td>0.693147</td>\n",
       "      <td>1.481458</td>\n",
       "      <td>0.000000</td>\n",
       "      <td>0.040656</td>\n",
       "      <td>0.648817</td>\n",
       "      <td>0.000000</td>\n",
       "      <td>0.000000</td>\n",
       "      <td>0.000000</td>\n",
       "      <td>0.000000</td>\n",
       "    </tr>\n",
       "    <tr>\n",
       "      <th>50%</th>\n",
       "      <td>0.693147</td>\n",
       "      <td>3.663562</td>\n",
       "      <td>4.499810</td>\n",
       "      <td>0.405465</td>\n",
       "      <td>0.080042</td>\n",
       "      <td>0.154151</td>\n",
       "      <td>0.000000</td>\n",
       "      <td>0.000000</td>\n",
       "      <td>2.079442</td>\n",
       "      <td>3.494587</td>\n",
       "      <td>0.000000</td>\n",
       "      <td>0.264455</td>\n",
       "      <td>1.109459</td>\n",
       "      <td>0.000000</td>\n",
       "      <td>0.000000</td>\n",
       "      <td>0.000000</td>\n",
       "      <td>0.000000</td>\n",
       "    </tr>\n",
       "    <tr>\n",
       "      <th>75%</th>\n",
       "      <td>0.693147</td>\n",
       "      <td>6.360274</td>\n",
       "      <td>6.151961</td>\n",
       "      <td>0.650588</td>\n",
       "      <td>0.262364</td>\n",
       "      <td>0.559616</td>\n",
       "      <td>0.200671</td>\n",
       "      <td>1.609438</td>\n",
       "      <td>2.890372</td>\n",
       "      <td>4.587295</td>\n",
       "      <td>4.606022</td>\n",
       "      <td>0.540911</td>\n",
       "      <td>1.953415</td>\n",
       "      <td>1.000000</td>\n",
       "      <td>1.000000</td>\n",
       "      <td>0.000000</td>\n",
       "      <td>0.000000</td>\n",
       "    </tr>\n",
       "    <tr>\n",
       "      <th>max</th>\n",
       "      <td>0.693147</td>\n",
       "      <td>10.615512</td>\n",
       "      <td>10.021315</td>\n",
       "      <td>0.693147</td>\n",
       "      <td>0.693147</td>\n",
       "      <td>0.693147</td>\n",
       "      <td>0.916291</td>\n",
       "      <td>4.820282</td>\n",
       "      <td>5.883322</td>\n",
       "      <td>8.315721</td>\n",
       "      <td>8.276166</td>\n",
       "      <td>2.827902</td>\n",
       "      <td>8.830767</td>\n",
       "      <td>1.000000</td>\n",
       "      <td>1.000000</td>\n",
       "      <td>1.000000</td>\n",
       "      <td>1.000000</td>\n",
       "    </tr>\n",
       "  </tbody>\n",
       "</table>\n",
       "</div>"
      ],
      "text/plain": [
       "       BALANCE_FREQUENCY  ONEOFF_PURCHASES  INSTALLMENTS_PURCHASES  \\\n",
       "count        8950.000000       8950.000000             8950.000000   \n",
       "mean            0.619940          3.204274                3.352403   \n",
       "std             0.148590          3.246365                3.082973   \n",
       "min             0.000000          0.000000                0.000000   \n",
       "25%             0.635989          0.000000                0.000000   \n",
       "50%             0.693147          3.663562                4.499810   \n",
       "75%             0.693147          6.360274                6.151961   \n",
       "max             0.693147         10.615512               10.021315   \n",
       "\n",
       "       PURCHASES_FREQUENCY  ONEOFF_PURCHASES_FREQUENCY  \\\n",
       "count          8950.000000                 8950.000000   \n",
       "mean              0.361268                    0.158699   \n",
       "std               0.277317                    0.216672   \n",
       "min               0.000000                    0.000000   \n",
       "25%               0.080042                    0.000000   \n",
       "50%               0.405465                    0.080042   \n",
       "75%               0.650588                    0.262364   \n",
       "max               0.693147                    0.693147   \n",
       "\n",
       "       PURCHASES_INSTALLMENTS_FREQUENCY  CASH_ADVANCE_FREQUENCY  \\\n",
       "count                       8950.000000             8950.000000   \n",
       "mean                           0.270072                0.113512   \n",
       "std                            0.281852                0.156716   \n",
       "min                            0.000000                0.000000   \n",
       "25%                            0.000000                0.000000   \n",
       "50%                            0.154151                0.000000   \n",
       "75%                            0.559616                0.200671   \n",
       "max                            0.693147                0.916291   \n",
       "\n",
       "       CASH_ADVANCE_TRX  PURCHASES_TRX  Monthly_avg_purchase  \\\n",
       "count       8950.000000    8950.000000           8950.000000   \n",
       "mean           0.817570       1.894731              3.050877   \n",
       "std            1.009316       1.373856              2.002823   \n",
       "min            0.000000       0.000000              0.000000   \n",
       "25%            0.000000       0.693147              1.481458   \n",
       "50%            0.000000       2.079442              3.494587   \n",
       "75%            1.609438       2.890372              4.587295   \n",
       "max            4.820282       5.883322              8.315721   \n",
       "\n",
       "       Monthly_cash_advance  limit_usage  payment_minpay  \\\n",
       "count           8950.000000  8950.000000     8950.000000   \n",
       "mean               2.163970     0.296081        1.357600   \n",
       "std                2.429741     0.250303        0.940149   \n",
       "min                0.000000     0.000000        0.000000   \n",
       "25%                0.000000     0.040656        0.648817   \n",
       "50%                0.000000     0.264455        1.109459   \n",
       "75%                4.606022     0.540911        1.953415   \n",
       "max                8.276166     2.827902        8.830767   \n",
       "\n",
       "       both_online/offline_installment  installment         none  \\\n",
       "count                      8950.000000  8950.000000  8950.000000   \n",
       "mean                          0.309944     0.252514     0.228156   \n",
       "std                           0.462496     0.434479     0.419667   \n",
       "min                           0.000000     0.000000     0.000000   \n",
       "25%                           0.000000     0.000000     0.000000   \n",
       "50%                           0.000000     0.000000     0.000000   \n",
       "75%                           1.000000     1.000000     0.000000   \n",
       "max                           1.000000     1.000000     1.000000   \n",
       "\n",
       "       online/offline_Purchases  \n",
       "count               8950.000000  \n",
       "mean                   0.209385  \n",
       "std                    0.406893  \n",
       "min                    0.000000  \n",
       "25%                    0.000000  \n",
       "50%                    0.000000  \n",
       "75%                    0.000000  \n",
       "max                    1.000000  "
      ]
     },
     "execution_count": 176,
     "metadata": {},
     "output_type": "execute_result"
    }
   ],
   "source": [
    "data_dummy.describe()"
   ]
  },
  {
   "cell_type": "markdown",
   "metadata": {},
   "source": [
    "# Feature Selection"
   ]
  },
  {
   "cell_type": "code",
   "execution_count": 27,
   "metadata": {},
   "outputs": [
    {
     "data": {
      "text/plain": [
       "<matplotlib.axes._subplots.AxesSubplot at 0x17daf4f3be0>"
      ]
     },
     "execution_count": 27,
     "metadata": {},
     "output_type": "execute_result"
    },
    {
     "data": {
      "image/png": "[encoded data removed]",
      "text/plain": [
       "<Figure size 432x288 with 2 Axes>"
      ]
     },
     "metadata": {
      "needs_background": "light"
     },
     "output_type": "display_data"
    }
   ],
   "source": [
    "#finding corelation through heatmap\n",
    "sns.heatmap(data_dummy.corr())"
   ]
  },
  {
   "cell_type": "markdown",
   "metadata": {},
   "source": [
    " Heat map shows that there is corelation between many features, so in order to remove multicollinearity ,we are using dimensionality reduction technique \n"
   ]
  },
  {
   "cell_type": "markdown",
   "metadata": {},
   "source": [
    "# Feature Scaling"
   ]
  },
  {
   "cell_type": "markdown",
   "metadata": {},
   "source": [
    "here we are trying to bring different measurments into a common scale"
   ]
  },
  {
   "cell_type": "code",
   "execution_count": 28,
   "metadata": {},
   "outputs": [],
   "source": [
    "from sklearn.preprocessing import  StandardScaler\n",
    "sc=StandardScaler()\n",
    "data_scaled=sc.fit_transform(data_dummy)"
   ]
  },
  {
   "cell_type": "markdown",
   "metadata": {},
   "source": [
    "### PCA ( to eliminate multicollinearity)"
   ]
  },
  {
   "cell_type": "markdown",
   "metadata": {},
   "source": [
    "Principal Component Analysis (PCA) is a statistical procedure that uses an orthogonal transformation which converts a set of correlated variables to a set of uncorrelated variables. PCA is a most widely used tool in exploratory data analysis and in machine learning for predictive models. Moreover, PCA is an unsupervised statistical technique used to examine the interrelations among a set of variables. It is also known as a general factor analysis where regression determines a line of best fit."
   ]
  },
  {
   "cell_type": "code",
   "execution_count": 179,
   "metadata": {},
   "outputs": [],
   "source": [
    "from sklearn.decomposition import PCA"
   ]
  },
  {
   "cell_type": "code",
   "execution_count": 180,
   "metadata": {},
   "outputs": [],
   "source": [
    "var_ratio={}\n",
    "for n in range(4,15):\n",
    "    pc=PCA(n_components=n)\n",
    "    data_pca=pc.fit(data_scaled)\n",
    "    var_ratio[n]=sum(data_pca.explained_variance_ratio_)"
   ]
  },
  {
   "cell_type": "code",
   "execution_count": 181,
   "metadata": {},
   "outputs": [],
   "source": [
    "pc=PCA(n_components=5)"
   ]
  },
  {
   "cell_type": "code",
   "execution_count": 182,
   "metadata": {},
   "outputs": [],
   "source": [
    "p=pc.fit(data_scaled)"
   ]
  },
  {
   "cell_type": "code",
   "execution_count": 183,
   "metadata": {},
   "outputs": [
    {
     "data": {
      "text/plain": [
       "(8950, 17)"
      ]
     },
     "execution_count": 183,
     "metadata": {},
     "output_type": "execute_result"
    }
   ],
   "source": [
    "data_scaled.shape"
   ]
  },
  {
   "cell_type": "code",
   "execution_count": 184,
   "metadata": {},
   "outputs": [
    {
     "data": {
      "text/plain": [
       "array([6.83574755, 3.07030693, 2.50427698, 1.38746289, 1.1138166 ])"
      ]
     },
     "execution_count": 184,
     "metadata": {},
     "output_type": "execute_result"
    }
   ],
   "source": [
    "p.explained_variance_"
   ]
  },
  {
   "cell_type": "code",
   "execution_count": 185,
   "metadata": {},
   "outputs": [
    {
     "data": {
      "text/plain": [
       "{4: 0.8115442762351257,\n",
       " 5: 0.8770555795291428,\n",
       " 6: 0.9186492443512619,\n",
       " 7: 0.9410925256030133,\n",
       " 8: 0.9616114053683066,\n",
       " 9: 0.9739787081990648,\n",
       " 10: 0.9835896584630704,\n",
       " 11: 0.9897248107341957,\n",
       " 12: 0.9927550009135226,\n",
       " 13: 0.9953907562385421,\n",
       " 14: 0.9979616898169594}"
      ]
     },
     "execution_count": 185,
     "metadata": {},
     "output_type": "execute_result"
    }
   ],
   "source": [
    "var_ratio"
   ]
  },
  {
   "cell_type": "code",
   "execution_count": 186,
   "metadata": {},
   "outputs": [
    {
     "data": {
      "text/plain": [
       "<matplotlib.axes._subplots.AxesSubplot at 0x135a0e01828>"
      ]
     },
     "execution_count": 186,
     "metadata": {},
     "output_type": "execute_result"
    },
    {
     "data": {
      "image/png": "[encoded data removed]",
      "text/plain": [
       "<Figure size 432x288 with 1 Axes>"
      ]
     },
     "metadata": {
      "needs_background": "light"
     },
     "output_type": "display_data"
    }
   ],
   "source": [
    "pd.Series(var_ratio).plot()"
   ]
  },
  {
   "cell_type": "markdown",
   "metadata": {},
   "source": [
    "we are selecting 5 components , as they are generating more variance"
   ]
  },
  {
   "cell_type": "code",
   "execution_count": 187,
   "metadata": {},
   "outputs": [],
   "source": [
    "pc_final=PCA(n_components=5).fit(data_scaled)\n",
    "\n",
    "reduced_cr=pc_final.fit_transform(data_scaled)"
   ]
  },
  {
   "cell_type": "code",
   "execution_count": 188,
   "metadata": {},
   "outputs": [],
   "source": [
    "cd=pd.DataFrame(reduced_cr)"
   ]
  },
  {
   "cell_type": "code",
   "execution_count": 189,
   "metadata": {},
   "outputs": [
    {
     "data": {
      "text/plain": [
       "(8950, 5)"
      ]
     },
     "execution_count": 189,
     "metadata": {},
     "output_type": "execute_result"
    }
   ],
   "source": [
    "cd.shape"
   ]
  },
  {
   "cell_type": "code",
   "execution_count": 190,
   "metadata": {},
   "outputs": [],
   "source": [
    "columns_list=data_dummy.columns"
   ]
  },
  {
   "cell_type": "code",
   "execution_count": 191,
   "metadata": {},
   "outputs": [
    {
     "data": {
      "text/plain": [
       "Index(['BALANCE_FREQUENCY', 'ONEOFF_PURCHASES', 'INSTALLMENTS_PURCHASES',\n",
       "       'PURCHASES_FREQUENCY', 'ONEOFF_PURCHASES_FREQUENCY',\n",
       "       'PURCHASES_INSTALLMENTS_FREQUENCY', 'CASH_ADVANCE_FREQUENCY',\n",
       "       'CASH_ADVANCE_TRX', 'PURCHASES_TRX', 'Monthly_avg_purchase',\n",
       "       'Monthly_cash_advance', 'limit_usage', 'payment_minpay',\n",
       "       'both_online/offline_installment', 'installment', 'none',\n",
       "       'online/offline_Purchases'],\n",
       "      dtype='object')"
      ]
     },
     "execution_count": 191,
     "metadata": {},
     "output_type": "execute_result"
    }
   ],
   "source": [
    "columns_list"
   ]
  },
  {
   "cell_type": "code",
   "execution_count": 192,
   "metadata": {},
   "outputs": [
    {
     "data": {
      "text/html": [
       "<div>\n",
       "<style scoped>\n",
       "    .dataframe tbody tr th:only-of-type {\n",
       "        vertical-align: middle;\n",
       "    }\n",
       "\n",
       "    .dataframe tbody tr th {\n",
       "        vertical-align: top;\n",
       "    }\n",
       "\n",
       "    .dataframe thead th {\n",
       "        text-align: right;\n",
       "    }\n",
       "</style>\n",
       "<table border=\"1\" class=\"dataframe\">\n",
       "  <thead>\n",
       "    <tr style=\"text-align: right;\">\n",
       "      <th></th>\n",
       "      <th>PC_0</th>\n",
       "      <th>PC_1</th>\n",
       "      <th>PC_2</th>\n",
       "      <th>PC_3</th>\n",
       "      <th>PC_4</th>\n",
       "    </tr>\n",
       "  </thead>\n",
       "  <tbody>\n",
       "    <tr>\n",
       "      <th>BALANCE_FREQUENCY</th>\n",
       "      <td>0.029707</td>\n",
       "      <td>0.240072</td>\n",
       "      <td>-0.263140</td>\n",
       "      <td>-0.353549</td>\n",
       "      <td>-0.228681</td>\n",
       "    </tr>\n",
       "    <tr>\n",
       "      <th>ONEOFF_PURCHASES</th>\n",
       "      <td>0.214107</td>\n",
       "      <td>0.406078</td>\n",
       "      <td>0.239165</td>\n",
       "      <td>0.001520</td>\n",
       "      <td>-0.023197</td>\n",
       "    </tr>\n",
       "    <tr>\n",
       "      <th>INSTALLMENTS_PURCHASES</th>\n",
       "      <td>0.312051</td>\n",
       "      <td>-0.098404</td>\n",
       "      <td>-0.315625</td>\n",
       "      <td>0.087983</td>\n",
       "      <td>-0.002181</td>\n",
       "    </tr>\n",
       "    <tr>\n",
       "      <th>PURCHASES_FREQUENCY</th>\n",
       "      <td>0.345823</td>\n",
       "      <td>0.015813</td>\n",
       "      <td>-0.162843</td>\n",
       "      <td>-0.074617</td>\n",
       "      <td>0.115948</td>\n",
       "    </tr>\n",
       "    <tr>\n",
       "      <th>ONEOFF_PURCHASES_FREQUENCY</th>\n",
       "      <td>0.214702</td>\n",
       "      <td>0.362208</td>\n",
       "      <td>0.163222</td>\n",
       "      <td>0.036303</td>\n",
       "      <td>-0.051279</td>\n",
       "    </tr>\n",
       "    <tr>\n",
       "      <th>PURCHASES_INSTALLMENTS_FREQUENCY</th>\n",
       "      <td>0.295451</td>\n",
       "      <td>-0.112002</td>\n",
       "      <td>-0.330029</td>\n",
       "      <td>0.023502</td>\n",
       "      <td>0.025871</td>\n",
       "    </tr>\n",
       "    <tr>\n",
       "      <th>CASH_ADVANCE_FREQUENCY</th>\n",
       "      <td>-0.214336</td>\n",
       "      <td>0.286074</td>\n",
       "      <td>-0.278586</td>\n",
       "      <td>0.096353</td>\n",
       "      <td>0.360132</td>\n",
       "    </tr>\n",
       "    <tr>\n",
       "      <th>CASH_ADVANCE_TRX</th>\n",
       "      <td>-0.229393</td>\n",
       "      <td>0.291556</td>\n",
       "      <td>-0.285089</td>\n",
       "      <td>0.103484</td>\n",
       "      <td>0.332753</td>\n",
       "    </tr>\n",
       "    <tr>\n",
       "      <th>PURCHASES_TRX</th>\n",
       "      <td>0.355503</td>\n",
       "      <td>0.106625</td>\n",
       "      <td>-0.102743</td>\n",
       "      <td>-0.054296</td>\n",
       "      <td>0.104971</td>\n",
       "    </tr>\n",
       "    <tr>\n",
       "      <th>Monthly_avg_purchase</th>\n",
       "      <td>0.345992</td>\n",
       "      <td>0.141635</td>\n",
       "      <td>0.023986</td>\n",
       "      <td>-0.079373</td>\n",
       "      <td>0.194147</td>\n",
       "    </tr>\n",
       "    <tr>\n",
       "      <th>Monthly_cash_advance</th>\n",
       "      <td>-0.243861</td>\n",
       "      <td>0.264318</td>\n",
       "      <td>-0.257427</td>\n",
       "      <td>0.135292</td>\n",
       "      <td>0.268026</td>\n",
       "    </tr>\n",
       "    <tr>\n",
       "      <th>limit_usage</th>\n",
       "      <td>-0.146302</td>\n",
       "      <td>0.235710</td>\n",
       "      <td>-0.251278</td>\n",
       "      <td>-0.431682</td>\n",
       "      <td>-0.181885</td>\n",
       "    </tr>\n",
       "    <tr>\n",
       "      <th>payment_minpay</th>\n",
       "      <td>0.119632</td>\n",
       "      <td>0.021328</td>\n",
       "      <td>0.136357</td>\n",
       "      <td>0.591561</td>\n",
       "      <td>0.215446</td>\n",
       "    </tr>\n",
       "    <tr>\n",
       "      <th>both_online/offline_installment</th>\n",
       "      <td>0.241392</td>\n",
       "      <td>0.273676</td>\n",
       "      <td>-0.131935</td>\n",
       "      <td>0.254710</td>\n",
       "      <td>-0.340849</td>\n",
       "    </tr>\n",
       "    <tr>\n",
       "      <th>installment</th>\n",
       "      <td>0.082209</td>\n",
       "      <td>-0.443375</td>\n",
       "      <td>-0.208683</td>\n",
       "      <td>-0.190829</td>\n",
       "      <td>0.353821</td>\n",
       "    </tr>\n",
       "    <tr>\n",
       "      <th>none</th>\n",
       "      <td>-0.310283</td>\n",
       "      <td>-0.005214</td>\n",
       "      <td>-0.096911</td>\n",
       "      <td>0.245104</td>\n",
       "      <td>-0.342222</td>\n",
       "    </tr>\n",
       "    <tr>\n",
       "      <th>online/offline_Purchases</th>\n",
       "      <td>-0.042138</td>\n",
       "      <td>0.167737</td>\n",
       "      <td>0.472749</td>\n",
       "      <td>-0.338549</td>\n",
       "      <td>0.362585</td>\n",
       "    </tr>\n",
       "  </tbody>\n",
       "</table>\n",
       "</div>"
      ],
      "text/plain": [
       "                                      PC_0      PC_1      PC_2      PC_3  \\\n",
       "BALANCE_FREQUENCY                 0.029707  0.240072 -0.263140 -0.353549   \n",
       "ONEOFF_PURCHASES                  0.214107  0.406078  0.239165  0.001520   \n",
       "INSTALLMENTS_PURCHASES            0.312051 -0.098404 -0.315625  0.087983   \n",
       "PURCHASES_FREQUENCY               0.345823  0.015813 -0.162843 -0.074617   \n",
       "ONEOFF_PURCHASES_FREQUENCY        0.214702  0.362208  0.163222  0.036303   \n",
       "PURCHASES_INSTALLMENTS_FREQUENCY  0.295451 -0.112002 -0.330029  0.023502   \n",
       "CASH_ADVANCE_FREQUENCY           -0.214336  0.286074 -0.278586  0.096353   \n",
       "CASH_ADVANCE_TRX                 -0.229393  0.291556 -0.285089  0.103484   \n",
       "PURCHASES_TRX                     0.355503  0.106625 -0.102743 -0.054296   \n",
       "Monthly_avg_purchase              0.345992  0.141635  0.023986 -0.079373   \n",
       "Monthly_cash_advance             -0.243861  0.264318 -0.257427  0.135292   \n",
       "limit_usage                      -0.146302  0.235710 -0.251278 -0.431682   \n",
       "payment_minpay                    0.119632  0.021328  0.136357  0.591561   \n",
       "both_online/offline_installment   0.241392  0.273676 -0.131935  0.254710   \n",
       "installment                       0.082209 -0.443375 -0.208683 -0.190829   \n",
       "none                             -0.310283 -0.005214 -0.096911  0.245104   \n",
       "online/offline_Purchases         -0.042138  0.167737  0.472749 -0.338549   \n",
       "\n",
       "                                      PC_4  \n",
       "BALANCE_FREQUENCY                -0.228681  \n",
       "ONEOFF_PURCHASES                 -0.023197  \n",
       "INSTALLMENTS_PURCHASES           -0.002181  \n",
       "PURCHASES_FREQUENCY               0.115948  \n",
       "ONEOFF_PURCHASES_FREQUENCY       -0.051279  \n",
       "PURCHASES_INSTALLMENTS_FREQUENCY  0.025871  \n",
       "CASH_ADVANCE_FREQUENCY            0.360132  \n",
       "CASH_ADVANCE_TRX                  0.332753  \n",
       "PURCHASES_TRX                     0.104971  \n",
       "Monthly_avg_purchase              0.194147  \n",
       "Monthly_cash_advance              0.268026  \n",
       "limit_usage                      -0.181885  \n",
       "payment_minpay                    0.215446  \n",
       "both_online/offline_installment  -0.340849  \n",
       "installment                       0.353821  \n",
       "none                             -0.342222  \n",
       "online/offline_Purchases          0.362585  "
      ]
     },
     "execution_count": 192,
     "metadata": {},
     "output_type": "execute_result"
    }
   ],
   "source": [
    "pd.DataFrame(pc_final.components_.T, columns=['PC_' +str(i) for i in range(5)],index=columns_list)"
   ]
  },
  {
   "cell_type": "code",
   "execution_count": 193,
   "metadata": {},
   "outputs": [
    {
     "data": {
      "text/plain": [
       "PC_0    0.402058\n",
       "PC_1    0.180586\n",
       "PC_2    0.147294\n",
       "PC_3    0.081606\n",
       "PC_4    0.065511\n",
       "dtype: float64"
      ]
     },
     "execution_count": 193,
     "metadata": {},
     "output_type": "execute_result"
    }
   ],
   "source": [
    " \n",
    "pd.Series(pc_final.explained_variance_ratio_,index=['PC_'+ str(i) for i in range(5)])"
   ]
  },
  {
   "cell_type": "markdown",
   "metadata": {},
   "source": [
    "# K-means Clustering"
   ]
  },
  {
   "cell_type": "code",
   "execution_count": 194,
   "metadata": {},
   "outputs": [],
   "source": [
    "from sklearn.cluster import KMeans"
   ]
  },
  {
   "cell_type": "code",
   "execution_count": 195,
   "metadata": {},
   "outputs": [],
   "source": [
    "distortions=[]\n",
    "K=range(1,10)\n",
    "for k in K:\n",
    "    kmean_model=KMeans(n_clusters=k)\n",
    "    kmean_model.fit(reduced_cr)\n",
    "    distortions.append(kmean_model.inertia_)"
   ]
  },
  {
   "cell_type": "code",
   "execution_count": 196,
   "metadata": {},
   "outputs": [
    {
     "data": {
      "text/plain": [
       "[<matplotlib.lines.Line2D at 0x135a166e8d0>]"
      ]
     },
     "execution_count": 196,
     "metadata": {},
     "output_type": "execute_result"
    },
    {
     "data": {
      "image/png": "[encoded data removed]",
      "text/plain": [
       "<Figure size 432x288 with 1 Axes>"
      ]
     },
     "metadata": {
      "needs_background": "light"
     },
     "output_type": "display_data"
    }
   ],
   "source": [
    "plt.plot(K,distortions)"
   ]
  },
  {
   "cell_type": "markdown",
   "metadata": {},
   "source": [
    "# 5 clusters"
   ]
  },
  {
   "cell_type": "code",
   "execution_count": 197,
   "metadata": {},
   "outputs": [
    {
     "data": {
      "text/plain": [
       "KMeans(algorithm='auto', copy_x=True, init='k-means++', max_iter=300,\n",
       "       n_clusters=5, n_init=10, n_jobs=None, precompute_distances='auto',\n",
       "       random_state=112, tol=0.0001, verbose=0)"
      ]
     },
     "execution_count": 197,
     "metadata": {},
     "output_type": "execute_result"
    }
   ],
   "source": [
    "km_5=KMeans(n_clusters=5,random_state=112)\n",
    "km_5.fit(reduced_cr)"
   ]
  },
  {
   "cell_type": "code",
   "execution_count": 198,
   "metadata": {},
   "outputs": [
    {
     "data": {
      "text/plain": [
       "array([3, 0, 2, ..., 3, 0, 2])"
      ]
     },
     "execution_count": 198,
     "metadata": {},
     "output_type": "execute_result"
    }
   ],
   "source": [
    "km_5.labels_"
   ]
  },
  {
   "cell_type": "code",
   "execution_count": 199,
   "metadata": {},
   "outputs": [
    {
     "data": {
      "text/plain": [
       "<matplotlib.collections.PathCollection at 0x135a16d2be0>"
      ]
     },
     "execution_count": 199,
     "metadata": {},
     "output_type": "execute_result"
    },
    {
     "data": {
      "image/png": "[encoded data removed]",
      "text/plain": [
       "<Figure size 504x504 with 1 Axes>"
      ]
     },
     "metadata": {
      "needs_background": "light"
     },
     "output_type": "display_data"
    }
   ],
   "source": [
    "\n",
    "color_map={0:'r',1:'b',2:'g',3:'y',4:'k'}\n",
    "label_color=[color_map[l] for l in km_5.labels_]\n",
    "plt.figure(figsize=(7,7))\n",
    "plt.scatter(reduced_cr[:,0],reduced_cr[:,1],c=label_color)"
   ]
  },
  {
   "cell_type": "markdown",
   "metadata": {},
   "source": [
    "# Checking performance metrics for 5 clusters"
   ]
  },
  {
   "cell_type": "code",
   "execution_count": 200,
   "metadata": {},
   "outputs": [],
   "source": [
    "\n",
    "from sklearn.metrics import calinski_harabaz_score,silhouette_score"
   ]
  },
  {
   "cell_type": "markdown",
   "metadata": {},
   "source": [
    "Calinski Harabaz score\n",
    "\n",
    "There is no \"acceptable\" cut-off value. You simply compare CH values by eye. The higher the value, the \"better\" is the solution. If on the line-plot of CH values there appears that one solution give a peak or at least an abrupt elbow, choose it. If, on the contrary, the line is smooth - horizontal or ascending or descending - then there is no reason to prefer one solution to others.\n",
    "\n",
    "\n",
    "Silhouette Score\n",
    "\n",
    "\n",
    "Silhouette values lies in the range of [-1, 1]. A value of +1 indicates that the sample is far away from its neighboring cluster and very close to the cluster its assigned. Similarly, value of -1 indicates that the point is close to its neighboring cluster than to the cluster its assigned. And, a value of 0 means its at the boundary of the distance between the two cluster. Value of +1 is idea and -1 is least preferred. Hence, higher the value better is the cluster configuration.\n",
    "\n",
    "\n",
    "\n",
    "\n",
    "\n",
    "\n",
    "\n",
    "\n"
   ]
  },
  {
   "cell_type": "code",
   "execution_count": 201,
   "metadata": {},
   "outputs": [
    {
     "data": {
      "text/plain": [
       "5867.020860915632"
      ]
     },
     "execution_count": 201,
     "metadata": {},
     "output_type": "execute_result"
    }
   ],
   "source": [
    "\n",
    "calinski_harabaz_score(reduced_cr,km_5.labels_)"
   ]
  },
  {
   "cell_type": "code",
   "execution_count": 202,
   "metadata": {},
   "outputs": [
    {
     "data": {
      "text/plain": [
       "0.4557517692881165"
      ]
     },
     "execution_count": 202,
     "metadata": {},
     "output_type": "execute_result"
    }
   ],
   "source": [
    "\n",
    "silhouette_score(reduced_cr,km_5.labels_)"
   ]
  },
  {
   "cell_type": "markdown",
   "metadata": {},
   "source": [
    "# 4 clusters"
   ]
  },
  {
   "cell_type": "code",
   "execution_count": 203,
   "metadata": {},
   "outputs": [
    {
     "data": {
      "text/plain": [
       "KMeans(algorithm='auto', copy_x=True, init='k-means++', max_iter=300,\n",
       "       n_clusters=4, n_init=10, n_jobs=None, precompute_distances='auto',\n",
       "       random_state=112, tol=0.0001, verbose=0)"
      ]
     },
     "execution_count": 203,
     "metadata": {},
     "output_type": "execute_result"
    }
   ],
   "source": [
    "km_4=KMeans(n_clusters=4,random_state=112)\n",
    "km_4.fit(reduced_cr)"
   ]
  },
  {
   "cell_type": "code",
   "execution_count": 204,
   "metadata": {},
   "outputs": [
    {
     "data": {
      "text/plain": [
       "<matplotlib.collections.PathCollection at 0x135a1703080>"
      ]
     },
     "execution_count": 204,
     "metadata": {},
     "output_type": "execute_result"
    },
    {
     "data": {
      "image/png": "[encoded data removed]",
      "text/plain": [
       "<Figure size 504x504 with 1 Axes>"
      ]
     },
     "metadata": {
      "needs_background": "light"
     },
     "output_type": "display_data"
    }
   ],
   "source": [
    "\n",
    "color_map={0:'r',1:'b',2:'g',3:'y'}\n",
    "label_color=[color_map[l] for l in km_4.labels_]\n",
    "plt.figure(figsize=(7,7))\n",
    "plt.scatter(reduced_cr[:,0],reduced_cr[:,1],c=label_color)"
   ]
  },
  {
   "cell_type": "markdown",
   "metadata": {},
   "source": [
    "# Checking performance metrics for 4 clusters"
   ]
  },
  {
   "cell_type": "markdown",
   "metadata": {},
   "source": [
    "#### calinski_harabaz_score"
   ]
  },
  {
   "cell_type": "code",
   "execution_count": 205,
   "metadata": {},
   "outputs": [
    {
     "data": {
      "text/plain": [
       "6164.054484808305"
      ]
     },
     "execution_count": 205,
     "metadata": {},
     "output_type": "execute_result"
    }
   ],
   "source": [
    "\n",
    "calinski_harabaz_score(reduced_cr,km_4.labels_)"
   ]
  },
  {
   "cell_type": "markdown",
   "metadata": {},
   "source": [
    "#### silhouette_score"
   ]
  },
  {
   "cell_type": "code",
   "execution_count": 206,
   "metadata": {},
   "outputs": [
    {
     "data": {
      "text/plain": [
       "0.45925855176006003"
      ]
     },
     "execution_count": 206,
     "metadata": {},
     "output_type": "execute_result"
    }
   ],
   "source": [
    "\n",
    "silhouette_score(reduced_cr,km_4.labels_)"
   ]
  },
  {
   "cell_type": "markdown",
   "metadata": {},
   "source": [
    "# 6 clusters"
   ]
  },
  {
   "cell_type": "code",
   "execution_count": 207,
   "metadata": {},
   "outputs": [
    {
     "data": {
      "text/plain": [
       "KMeans(algorithm='auto', copy_x=True, init='k-means++', max_iter=300,\n",
       "       n_clusters=6, n_init=10, n_jobs=None, precompute_distances='auto',\n",
       "       random_state=112, tol=0.0001, verbose=0)"
      ]
     },
     "execution_count": 207,
     "metadata": {},
     "output_type": "execute_result"
    }
   ],
   "source": [
    "km_6=KMeans(n_clusters=6,random_state=112)\n",
    "km_6.fit(reduced_cr)"
   ]
  },
  {
   "cell_type": "code",
   "execution_count": 208,
   "metadata": {},
   "outputs": [
    {
     "data": {
      "text/plain": [
       "<matplotlib.collections.PathCollection at 0x135a18cb400>"
      ]
     },
     "execution_count": 208,
     "metadata": {},
     "output_type": "execute_result"
    },
    {
     "data": {
      "image/png": "[encoded data removed]",
      "text/plain": [
       "<Figure size 504x504 with 1 Axes>"
      ]
     },
     "metadata": {
      "needs_background": "light"
     },
     "output_type": "display_data"
    }
   ],
   "source": [
    "color_map={0:'r',1:'b',2:'g',3:'y',4:'w',5:'k'}\n",
    "label_color=[color_map[l] for l in km_6.labels_]\n",
    "plt.figure(figsize=(7,7))\n",
    "plt.scatter(reduced_cr[:,0],reduced_cr[:,1],c=label_color)"
   ]
  },
  {
   "cell_type": "markdown",
   "metadata": {},
   "source": [
    "# Checking performance metrics for 6 clusters"
   ]
  },
  {
   "cell_type": "markdown",
   "metadata": {},
   "source": [
    "#### calinski_harabaz_score"
   ]
  },
  {
   "cell_type": "code",
   "execution_count": 209,
   "metadata": {},
   "outputs": [
    {
     "data": {
      "text/plain": [
       "5669.505574153349"
      ]
     },
     "execution_count": 209,
     "metadata": {},
     "output_type": "execute_result"
    }
   ],
   "source": [
    "\n",
    "calinski_harabaz_score(reduced_cr,km_6.labels_)"
   ]
  },
  {
   "cell_type": "markdown",
   "metadata": {},
   "source": [
    "#### silhouette_score"
   ]
  },
  {
   "cell_type": "code",
   "execution_count": 210,
   "metadata": {},
   "outputs": [
    {
     "data": {
      "text/plain": [
       "0.45041255340732084"
      ]
     },
     "execution_count": 210,
     "metadata": {},
     "output_type": "execute_result"
    }
   ],
   "source": [
    "silhouette_score(reduced_cr,km_6.labels_)"
   ]
  },
  {
   "cell_type": "code",
   "execution_count": null,
   "metadata": {},
   "outputs": [],
   "source": []
  },
  {
   "cell_type": "markdown",
   "metadata": {},
   "source": [
    "#### From the performance metrice, we can observe that, for 4 clusters, the Calinski Harabaz score and Silhouette score is high, while compared to other two clusters assumptions. So, we choose taking 4 clusters. Now, in order to suggest the marketing strategy , we need to gain insight on 4 clusters."
   ]
  },
  {
   "cell_type": "code",
   "execution_count": 211,
   "metadata": {},
   "outputs": [],
   "source": [
    "df_plot=pd.DataFrame(reduced_cr,columns=['PC_' +str(i) for i in range(5)])"
   ]
  },
  {
   "cell_type": "code",
   "execution_count": 212,
   "metadata": {},
   "outputs": [],
   "source": [
    "df_plot['Cluster']=km_4.labels_"
   ]
  },
  {
   "cell_type": "code",
   "execution_count": 217,
   "metadata": {},
   "outputs": [
    {
     "data": {
      "text/plain": [
       "Index(['CUST_ID', 'BALANCE', 'BALANCE_FREQUENCY', 'PURCHASES',\n",
       "       'ONEOFF_PURCHASES', 'INSTALLMENTS_PURCHASES', 'CASH_ADVANCE',\n",
       "       'PURCHASES_FREQUENCY', 'ONEOFF_PURCHASES_FREQUENCY',\n",
       "       'PURCHASES_INSTALLMENTS_FREQUENCY', 'CASH_ADVANCE_FREQUENCY',\n",
       "       'CASH_ADVANCE_TRX', 'PURCHASES_TRX', 'CREDIT_LIMIT', 'PAYMENTS',\n",
       "       'MINIMUM_PAYMENTS', 'PRC_FULL_PAYMENT', 'TENURE',\n",
       "       'Monthly_avg_purchase', 'Monthly_cash_advance', 'Purchase_Type',\n",
       "       'limit_usage', 'payment_minpay', 'both_online/offline_installment',\n",
       "       'installment', 'none', 'online/offline_Purchases'],\n",
       "      dtype='object')"
      ]
     },
     "execution_count": 217,
     "metadata": {},
     "output_type": "execute_result"
    }
   ],
   "source": [
    "data_original.columns"
   ]
  },
  {
   "cell_type": "code",
   "execution_count": 218,
   "metadata": {},
   "outputs": [],
   "source": [
    "# Key performace variable selection . here i am dropping varibales which are used in derving new KPI\n",
    "kpi_col=['PURCHASES_TRX','Monthly_avg_purchase','Monthly_cash_advance','limit_usage','CASH_ADVANCE_TRX',\n",
    "         'payment_minpay','both_online/offline_installment','installment','online/offline_Purchases','none','CREDIT_LIMIT']"
   ]
  },
  {
   "cell_type": "code",
   "execution_count": 214,
   "metadata": {},
   "outputs": [
    {
     "data": {
      "text/html": [
       "<div>\n",
       "<style scoped>\n",
       "    .dataframe tbody tr th:only-of-type {\n",
       "        vertical-align: middle;\n",
       "    }\n",
       "\n",
       "    .dataframe tbody tr th {\n",
       "        vertical-align: top;\n",
       "    }\n",
       "\n",
       "    .dataframe thead th {\n",
       "        text-align: right;\n",
       "    }\n",
       "</style>\n",
       "<table border=\"1\" class=\"dataframe\">\n",
       "  <thead>\n",
       "    <tr style=\"text-align: right;\">\n",
       "      <th></th>\n",
       "      <th>BALANCE_FREQUENCY</th>\n",
       "      <th>ONEOFF_PURCHASES</th>\n",
       "      <th>INSTALLMENTS_PURCHASES</th>\n",
       "      <th>PURCHASES_FREQUENCY</th>\n",
       "      <th>ONEOFF_PURCHASES_FREQUENCY</th>\n",
       "      <th>PURCHASES_INSTALLMENTS_FREQUENCY</th>\n",
       "      <th>CASH_ADVANCE_FREQUENCY</th>\n",
       "      <th>CASH_ADVANCE_TRX</th>\n",
       "      <th>PURCHASES_TRX</th>\n",
       "      <th>Monthly_avg_purchase</th>\n",
       "      <th>Monthly_cash_advance</th>\n",
       "      <th>limit_usage</th>\n",
       "      <th>payment_minpay</th>\n",
       "    </tr>\n",
       "  </thead>\n",
       "  <tbody>\n",
       "    <tr>\n",
       "      <th>count</th>\n",
       "      <td>8950.000000</td>\n",
       "      <td>8950.000000</td>\n",
       "      <td>8950.000000</td>\n",
       "      <td>8950.000000</td>\n",
       "      <td>8950.000000</td>\n",
       "      <td>8950.000000</td>\n",
       "      <td>8950.000000</td>\n",
       "      <td>8950.000000</td>\n",
       "      <td>8950.000000</td>\n",
       "      <td>8950.000000</td>\n",
       "      <td>8950.000000</td>\n",
       "      <td>8950.000000</td>\n",
       "      <td>8950.000000</td>\n",
       "    </tr>\n",
       "    <tr>\n",
       "      <th>mean</th>\n",
       "      <td>0.619940</td>\n",
       "      <td>3.204274</td>\n",
       "      <td>3.352403</td>\n",
       "      <td>0.361268</td>\n",
       "      <td>0.158699</td>\n",
       "      <td>0.270072</td>\n",
       "      <td>0.113512</td>\n",
       "      <td>0.817570</td>\n",
       "      <td>1.894731</td>\n",
       "      <td>3.050877</td>\n",
       "      <td>2.163970</td>\n",
       "      <td>0.296081</td>\n",
       "      <td>1.357600</td>\n",
       "    </tr>\n",
       "    <tr>\n",
       "      <th>std</th>\n",
       "      <td>0.148590</td>\n",
       "      <td>3.246365</td>\n",
       "      <td>3.082973</td>\n",
       "      <td>0.277317</td>\n",
       "      <td>0.216672</td>\n",
       "      <td>0.281852</td>\n",
       "      <td>0.156716</td>\n",
       "      <td>1.009316</td>\n",
       "      <td>1.373856</td>\n",
       "      <td>2.002823</td>\n",
       "      <td>2.429741</td>\n",
       "      <td>0.250303</td>\n",
       "      <td>0.940149</td>\n",
       "    </tr>\n",
       "    <tr>\n",
       "      <th>min</th>\n",
       "      <td>0.000000</td>\n",
       "      <td>0.000000</td>\n",
       "      <td>0.000000</td>\n",
       "      <td>0.000000</td>\n",
       "      <td>0.000000</td>\n",
       "      <td>0.000000</td>\n",
       "      <td>0.000000</td>\n",
       "      <td>0.000000</td>\n",
       "      <td>0.000000</td>\n",
       "      <td>0.000000</td>\n",
       "      <td>0.000000</td>\n",
       "      <td>0.000000</td>\n",
       "      <td>0.000000</td>\n",
       "    </tr>\n",
       "    <tr>\n",
       "      <th>25%</th>\n",
       "      <td>0.635989</td>\n",
       "      <td>0.000000</td>\n",
       "      <td>0.000000</td>\n",
       "      <td>0.080042</td>\n",
       "      <td>0.000000</td>\n",
       "      <td>0.000000</td>\n",
       "      <td>0.000000</td>\n",
       "      <td>0.000000</td>\n",
       "      <td>0.693147</td>\n",
       "      <td>1.481458</td>\n",
       "      <td>0.000000</td>\n",
       "      <td>0.040656</td>\n",
       "      <td>0.648817</td>\n",
       "    </tr>\n",
       "    <tr>\n",
       "      <th>50%</th>\n",
       "      <td>0.693147</td>\n",
       "      <td>3.663562</td>\n",
       "      <td>4.499810</td>\n",
       "      <td>0.405465</td>\n",
       "      <td>0.080042</td>\n",
       "      <td>0.154151</td>\n",
       "      <td>0.000000</td>\n",
       "      <td>0.000000</td>\n",
       "      <td>2.079442</td>\n",
       "      <td>3.494587</td>\n",
       "      <td>0.000000</td>\n",
       "      <td>0.264455</td>\n",
       "      <td>1.109459</td>\n",
       "    </tr>\n",
       "    <tr>\n",
       "      <th>75%</th>\n",
       "      <td>0.693147</td>\n",
       "      <td>6.360274</td>\n",
       "      <td>6.151961</td>\n",
       "      <td>0.650588</td>\n",
       "      <td>0.262364</td>\n",
       "      <td>0.559616</td>\n",
       "      <td>0.200671</td>\n",
       "      <td>1.609438</td>\n",
       "      <td>2.890372</td>\n",
       "      <td>4.587295</td>\n",
       "      <td>4.606022</td>\n",
       "      <td>0.540911</td>\n",
       "      <td>1.953415</td>\n",
       "    </tr>\n",
       "    <tr>\n",
       "      <th>max</th>\n",
       "      <td>0.693147</td>\n",
       "      <td>10.615512</td>\n",
       "      <td>10.021315</td>\n",
       "      <td>0.693147</td>\n",
       "      <td>0.693147</td>\n",
       "      <td>0.693147</td>\n",
       "      <td>0.916291</td>\n",
       "      <td>4.820282</td>\n",
       "      <td>5.883322</td>\n",
       "      <td>8.315721</td>\n",
       "      <td>8.276166</td>\n",
       "      <td>2.827902</td>\n",
       "      <td>8.830767</td>\n",
       "    </tr>\n",
       "  </tbody>\n",
       "</table>\n",
       "</div>"
      ],
      "text/plain": [
       "       BALANCE_FREQUENCY  ONEOFF_PURCHASES  INSTALLMENTS_PURCHASES  \\\n",
       "count        8950.000000       8950.000000             8950.000000   \n",
       "mean            0.619940          3.204274                3.352403   \n",
       "std             0.148590          3.246365                3.082973   \n",
       "min             0.000000          0.000000                0.000000   \n",
       "25%             0.635989          0.000000                0.000000   \n",
       "50%             0.693147          3.663562                4.499810   \n",
       "75%             0.693147          6.360274                6.151961   \n",
       "max             0.693147         10.615512               10.021315   \n",
       "\n",
       "       PURCHASES_FREQUENCY  ONEOFF_PURCHASES_FREQUENCY  \\\n",
       "count          8950.000000                 8950.000000   \n",
       "mean              0.361268                    0.158699   \n",
       "std               0.277317                    0.216672   \n",
       "min               0.000000                    0.000000   \n",
       "25%               0.080042                    0.000000   \n",
       "50%               0.405465                    0.080042   \n",
       "75%               0.650588                    0.262364   \n",
       "max               0.693147                    0.693147   \n",
       "\n",
       "       PURCHASES_INSTALLMENTS_FREQUENCY  CASH_ADVANCE_FREQUENCY  \\\n",
       "count                       8950.000000             8950.000000   \n",
       "mean                           0.270072                0.113512   \n",
       "std                            0.281852                0.156716   \n",
       "min                            0.000000                0.000000   \n",
       "25%                            0.000000                0.000000   \n",
       "50%                            0.154151                0.000000   \n",
       "75%                            0.559616                0.200671   \n",
       "max                            0.693147                0.916291   \n",
       "\n",
       "       CASH_ADVANCE_TRX  PURCHASES_TRX  Monthly_avg_purchase  \\\n",
       "count       8950.000000    8950.000000           8950.000000   \n",
       "mean           0.817570       1.894731              3.050877   \n",
       "std            1.009316       1.373856              2.002823   \n",
       "min            0.000000       0.000000              0.000000   \n",
       "25%            0.000000       0.693147              1.481458   \n",
       "50%            0.000000       2.079442              3.494587   \n",
       "75%            1.609438       2.890372              4.587295   \n",
       "max            4.820282       5.883322              8.315721   \n",
       "\n",
       "       Monthly_cash_advance  limit_usage  payment_minpay  \n",
       "count           8950.000000  8950.000000     8950.000000  \n",
       "mean               2.163970     0.296081        1.357600  \n",
       "std                2.429741     0.250303        0.940149  \n",
       "min                0.000000     0.000000        0.000000  \n",
       "25%                0.000000     0.040656        0.648817  \n",
       "50%                0.000000     0.264455        1.109459  \n",
       "75%                4.606022     0.540911        1.953415  \n",
       "max                8.276166     2.827902        8.830767  "
      ]
     },
     "execution_count": 214,
     "metadata": {},
     "output_type": "execute_result"
    }
   ],
   "source": [
    "data_pre.describe()"
   ]
  },
  {
   "cell_type": "code",
   "execution_count": 221,
   "metadata": {},
   "outputs": [],
   "source": [
    "# Conactenating labels found through Kmeans with data \n",
    "cluster_4=pd.concat([data_original[kpi_col],pd.Series(km_4.labels_,name='Cluster_4')],axis=1)\n"
   ]
  },
  {
   "cell_type": "code",
   "execution_count": 222,
   "metadata": {},
   "outputs": [
    {
     "data": {
      "text/html": [
       "<div>\n",
       "<style scoped>\n",
       "    .dataframe tbody tr th:only-of-type {\n",
       "        vertical-align: middle;\n",
       "    }\n",
       "\n",
       "    .dataframe tbody tr th {\n",
       "        vertical-align: top;\n",
       "    }\n",
       "\n",
       "    .dataframe thead th {\n",
       "        text-align: right;\n",
       "    }\n",
       "</style>\n",
       "<table border=\"1\" class=\"dataframe\">\n",
       "  <thead>\n",
       "    <tr style=\"text-align: right;\">\n",
       "      <th></th>\n",
       "      <th>PURCHASES_TRX</th>\n",
       "      <th>Monthly_avg_purchase</th>\n",
       "      <th>Monthly_cash_advance</th>\n",
       "      <th>limit_usage</th>\n",
       "      <th>CASH_ADVANCE_TRX</th>\n",
       "      <th>payment_minpay</th>\n",
       "      <th>both_online/offline_installment</th>\n",
       "      <th>installment</th>\n",
       "      <th>online/offline_Purchases</th>\n",
       "      <th>none</th>\n",
       "      <th>CREDIT_LIMIT</th>\n",
       "      <th>Cluster_4</th>\n",
       "    </tr>\n",
       "  </thead>\n",
       "  <tbody>\n",
       "    <tr>\n",
       "      <th>0</th>\n",
       "      <td>2</td>\n",
       "      <td>7.950000</td>\n",
       "      <td>0.000000</td>\n",
       "      <td>0.040901</td>\n",
       "      <td>0</td>\n",
       "      <td>1.446508</td>\n",
       "      <td>0</td>\n",
       "      <td>1</td>\n",
       "      <td>0</td>\n",
       "      <td>0</td>\n",
       "      <td>1000.0</td>\n",
       "      <td>2</td>\n",
       "    </tr>\n",
       "    <tr>\n",
       "      <th>1</th>\n",
       "      <td>0</td>\n",
       "      <td>0.000000</td>\n",
       "      <td>536.912124</td>\n",
       "      <td>0.457495</td>\n",
       "      <td>4</td>\n",
       "      <td>3.826241</td>\n",
       "      <td>0</td>\n",
       "      <td>0</td>\n",
       "      <td>0</td>\n",
       "      <td>1</td>\n",
       "      <td>7000.0</td>\n",
       "      <td>1</td>\n",
       "    </tr>\n",
       "    <tr>\n",
       "      <th>2</th>\n",
       "      <td>12</td>\n",
       "      <td>64.430833</td>\n",
       "      <td>0.000000</td>\n",
       "      <td>0.332687</td>\n",
       "      <td>0</td>\n",
       "      <td>0.991682</td>\n",
       "      <td>0</td>\n",
       "      <td>0</td>\n",
       "      <td>1</td>\n",
       "      <td>0</td>\n",
       "      <td>7500.0</td>\n",
       "      <td>0</td>\n",
       "    </tr>\n",
       "    <tr>\n",
       "      <th>3</th>\n",
       "      <td>1</td>\n",
       "      <td>124.916667</td>\n",
       "      <td>17.149001</td>\n",
       "      <td>0.222223</td>\n",
       "      <td>1</td>\n",
       "      <td>0.000000</td>\n",
       "      <td>0</td>\n",
       "      <td>0</td>\n",
       "      <td>1</td>\n",
       "      <td>0</td>\n",
       "      <td>7500.0</td>\n",
       "      <td>0</td>\n",
       "    </tr>\n",
       "    <tr>\n",
       "      <th>4</th>\n",
       "      <td>1</td>\n",
       "      <td>1.333333</td>\n",
       "      <td>0.000000</td>\n",
       "      <td>0.681429</td>\n",
       "      <td>0</td>\n",
       "      <td>2.771075</td>\n",
       "      <td>0</td>\n",
       "      <td>0</td>\n",
       "      <td>1</td>\n",
       "      <td>0</td>\n",
       "      <td>1200.0</td>\n",
       "      <td>0</td>\n",
       "    </tr>\n",
       "  </tbody>\n",
       "</table>\n",
       "</div>"
      ],
      "text/plain": [
       "   PURCHASES_TRX  Monthly_avg_purchase  Monthly_cash_advance  limit_usage  \\\n",
       "0              2              7.950000              0.000000     0.040901   \n",
       "1              0              0.000000            536.912124     0.457495   \n",
       "2             12             64.430833              0.000000     0.332687   \n",
       "3              1            124.916667             17.149001     0.222223   \n",
       "4              1              1.333333              0.000000     0.681429   \n",
       "\n",
       "   CASH_ADVANCE_TRX  payment_minpay  both_online/offline_installment  \\\n",
       "0                 0        1.446508                                0   \n",
       "1                 4        3.826241                                0   \n",
       "2                 0        0.991682                                0   \n",
       "3                 1        0.000000                                0   \n",
       "4                 0        2.771075                                0   \n",
       "\n",
       "   installment  online/offline_Purchases  none  CREDIT_LIMIT  Cluster_4  \n",
       "0            1                         0     0        1000.0          2  \n",
       "1            0                         0     1        7000.0          1  \n",
       "2            0                         1     0        7500.0          0  \n",
       "3            0                         1     0        7500.0          0  \n",
       "4            0                         1     0        1200.0          0  "
      ]
     },
     "execution_count": 222,
     "metadata": {},
     "output_type": "execute_result"
    }
   ],
   "source": [
    "cluster_4.head()\n"
   ]
  },
  {
   "cell_type": "code",
   "execution_count": 223,
   "metadata": {},
   "outputs": [
    {
     "data": {
      "text/html": [
       "<div>\n",
       "<style scoped>\n",
       "    .dataframe tbody tr th:only-of-type {\n",
       "        vertical-align: middle;\n",
       "    }\n",
       "\n",
       "    .dataframe tbody tr th {\n",
       "        vertical-align: top;\n",
       "    }\n",
       "\n",
       "    .dataframe thead th {\n",
       "        text-align: right;\n",
       "    }\n",
       "</style>\n",
       "<table border=\"1\" class=\"dataframe\">\n",
       "  <thead>\n",
       "    <tr style=\"text-align: right;\">\n",
       "      <th>Cluster_4</th>\n",
       "      <th>0</th>\n",
       "      <th>1</th>\n",
       "      <th>2</th>\n",
       "      <th>3</th>\n",
       "    </tr>\n",
       "  </thead>\n",
       "  <tbody>\n",
       "    <tr>\n",
       "      <th>PURCHASES_TRX</th>\n",
       "      <td>7.118997</td>\n",
       "      <td>0.045933</td>\n",
       "      <td>12.053860</td>\n",
       "      <td>33.125453</td>\n",
       "    </tr>\n",
       "    <tr>\n",
       "      <th>Monthly_avg_purchase</th>\n",
       "      <td>69.758276</td>\n",
       "      <td>0.159337</td>\n",
       "      <td>47.573598</td>\n",
       "      <td>193.696083</td>\n",
       "    </tr>\n",
       "    <tr>\n",
       "      <th>Monthly_cash_advance</th>\n",
       "      <td>77.843485</td>\n",
       "      <td>186.298043</td>\n",
       "      <td>33.489846</td>\n",
       "      <td>67.620006</td>\n",
       "    </tr>\n",
       "    <tr>\n",
       "      <th>limit_usage</th>\n",
       "      <td>0.378727</td>\n",
       "      <td>0.576217</td>\n",
       "      <td>0.264275</td>\n",
       "      <td>0.354487</td>\n",
       "    </tr>\n",
       "    <tr>\n",
       "      <th>CASH_ADVANCE_TRX</th>\n",
       "      <td>2.864995</td>\n",
       "      <td>6.552632</td>\n",
       "      <td>1.019300</td>\n",
       "      <td>2.807107</td>\n",
       "    </tr>\n",
       "    <tr>\n",
       "      <th>payment_minpay</th>\n",
       "      <td>5.561421</td>\n",
       "      <td>9.927979</td>\n",
       "      <td>13.402660</td>\n",
       "      <td>7.268605</td>\n",
       "    </tr>\n",
       "    <tr>\n",
       "      <th>both_online/offline_installment</th>\n",
       "      <td>0.003735</td>\n",
       "      <td>0.002392</td>\n",
       "      <td>0.001795</td>\n",
       "      <td>1.000000</td>\n",
       "    </tr>\n",
       "    <tr>\n",
       "      <th>installment</th>\n",
       "      <td>0.000000</td>\n",
       "      <td>0.017225</td>\n",
       "      <td>0.998205</td>\n",
       "      <td>0.000000</td>\n",
       "    </tr>\n",
       "    <tr>\n",
       "      <th>online/offline_Purchases</th>\n",
       "      <td>0.996265</td>\n",
       "      <td>0.003349</td>\n",
       "      <td>0.000000</td>\n",
       "      <td>0.000000</td>\n",
       "    </tr>\n",
       "    <tr>\n",
       "      <th>none</th>\n",
       "      <td>0.000000</td>\n",
       "      <td>0.977033</td>\n",
       "      <td>0.000000</td>\n",
       "      <td>0.000000</td>\n",
       "    </tr>\n",
       "    <tr>\n",
       "      <th>CREDIT_LIMIT</th>\n",
       "      <td>4512.905630</td>\n",
       "      <td>4055.582137</td>\n",
       "      <td>3335.697210</td>\n",
       "      <td>5750.015565</td>\n",
       "    </tr>\n",
       "  </tbody>\n",
       "</table>\n",
       "</div>"
      ],
      "text/plain": [
       "Cluster_4                                  0            1            2  \\\n",
       "PURCHASES_TRX                       7.118997     0.045933    12.053860   \n",
       "Monthly_avg_purchase               69.758276     0.159337    47.573598   \n",
       "Monthly_cash_advance               77.843485   186.298043    33.489846   \n",
       "limit_usage                         0.378727     0.576217     0.264275   \n",
       "CASH_ADVANCE_TRX                    2.864995     6.552632     1.019300   \n",
       "payment_minpay                      5.561421     9.927979    13.402660   \n",
       "both_online/offline_installment     0.003735     0.002392     0.001795   \n",
       "installment                         0.000000     0.017225     0.998205   \n",
       "online/offline_Purchases            0.996265     0.003349     0.000000   \n",
       "none                                0.000000     0.977033     0.000000   \n",
       "CREDIT_LIMIT                     4512.905630  4055.582137  3335.697210   \n",
       "\n",
       "Cluster_4                                  3  \n",
       "PURCHASES_TRX                      33.125453  \n",
       "Monthly_avg_purchase              193.696083  \n",
       "Monthly_cash_advance               67.620006  \n",
       "limit_usage                         0.354487  \n",
       "CASH_ADVANCE_TRX                    2.807107  \n",
       "payment_minpay                      7.268605  \n",
       "both_online/offline_installment     1.000000  \n",
       "installment                         0.000000  \n",
       "online/offline_Purchases            0.000000  \n",
       "none                                0.000000  \n",
       "CREDIT_LIMIT                     5750.015565  "
      ]
     },
     "execution_count": 223,
     "metadata": {},
     "output_type": "execute_result"
    }
   ],
   "source": [
    "# Mean value gives a good indication of the distribution of data. So we are finding mean value for each variable for each cluster\n",
    "cluster_df_4=cluster_4.groupby('Cluster_4')\\\n",
    ".apply(lambda x: x[kpi_col].mean()).T\n",
    "cluster_df_4\n"
   ]
  },
  {
   "cell_type": "code",
   "execution_count": 233,
   "metadata": {},
   "outputs": [
    {
     "data": {
      "text/plain": [
       "<matplotlib.legend.Legend at 0x135a6cdccf8>"
      ]
     },
     "execution_count": 233,
     "metadata": {},
     "output_type": "execute_result"
    },
    {
     "data": {
      "image/png": "[encoded data removed]",
      "text/plain": [
       "<Figure size 1080x720 with 1 Axes>"
      ]
     },
     "metadata": {
      "needs_background": "light"
     },
     "output_type": "display_data"
    }
   ],
   "source": [
    "fig,ax=plt.subplots(figsize=(15,10))\n",
    "index=np.arange(len(cluster_df_4.columns))\n",
    "\n",
    "cash_advance=np.log(cluster_df_4.loc['Monthly_cash_advance',:].values)\n",
    "credit_score=(cluster_df_4.loc['limit_usage',:].values)\n",
    "purchase= np.log(cluster_df_4.loc['Monthly_avg_purchase',:].values)\n",
    "payment=cluster_df_4.loc['payment_minpay',:].values\n",
    "installment=cluster_df_4.loc['installment',:].values\n",
    "one_off=cluster_df_4.loc['online/offline_Purchases',:].values\n",
    "\n",
    "\n",
    "bar_width=.10\n",
    "b1=plt.bar(index,cash_advance,color='yellow',label='Monthly cash advance',width=bar_width)\n",
    "b2=plt.bar(index+bar_width,credit_score,color='purple',label='Credit_score',width=bar_width)\n",
    "b3=plt.bar(index+2*bar_width,purchase,color='green',label='Avg purchase',width=bar_width)\n",
    "b4=plt.bar(index+3*bar_width,payment,color='blue',label='Payment-minpayment ratio',width=bar_width)\n",
    "b5=plt.bar(index+4*bar_width,installment,color='black',label='installment',width=bar_width)\n",
    "b6=plt.bar(index+5*bar_width,one_off,color='red',label='Online/offline purchase',width=bar_width)\n",
    "\n",
    "plt.xlabel(\"Clusters\")\n",
    "plt.title(\"Insights\")\n",
    "plt.xticks(index + bar_width, ('Cluster-1', 'Cluster-2', 'Cluster-3', 'Cluster-4'))\n",
    "plt.legend()"
   ]
  },
  {
   "cell_type": "markdown",
   "metadata": {},
   "source": [
    "### Conclusion form the theory of 4 clusters:\n",
    "#### 1. The cluster-1 has highest 'online/offline purchases',least 'Payment-ratio', while compared to other clusters\n",
    "\n",
    "#### 2. The cluster-2 has highest 'Monthly cash advance' and least 'Average purchases'. It also has 'online/offline' and 'installment' purchases.It also maintained good credit score, compared to other clusters.\n",
    "\n",
    "#### 3. The cluster-3 has highest 'Payment ratio' and 'installment' purchases, compared to other clusters.It also has good 'Average Purchase'.But it doesnot have any 'installment' and 'online/offline' purchases.It also have least credit-score and Monthly cash advance.\n",
    "\n",
    "#### 4. The cluster-4 has highest 'Average Purchase'. It has good 'Monthly cash advance'.It also doesnot have any online/offline and intsallment purchases.\n",
    "    \n",
    "        \n",
    "    \n",
    "    "
   ]
  },
  {
   "cell_type": "markdown",
   "metadata": {},
   "source": [
    "# Suggestions on Marketing "
   ]
  },
  {
   "cell_type": "markdown",
   "metadata": {},
   "source": [
    "\n",
    "    \n",
    "\n",
    "\n",
    "1. Category 1 : This group have maximum online/offline purchases but has least payment-ratio.So, we can conclude that they are                 not purchasing much throuh online/offline , may be there purchases are loan cuttings, bill payments, etc.\n",
    "    \n",
    "\n",
    "\n",
    "2. Category 2 : This group takes much cash in advance and do not spend more money,though they make some online/offline and                     installmentpurchases. We also need to remember that these are the group that maintained, good credit score,                     which is more important.We can increase their interest for purchasing , by giving reward points,offers on every                 transactions.\n",
    "\n",
    "\n",
    "\n",
    "3. Category 3: This group has least monthly cash adavance, so we need to lower the interest rate, and give cash backs on their                every purchase.\n",
    "\n",
    "\n",
    "\n",
    "4. Category 4: This group are main useful to gain profit as they take cash in advance, make pruchases and also does                            online/offline and installment purchases. We can give them loyalty cards."
   ]
  },
  {
   "cell_type": "code",
   "execution_count": null,
   "metadata": {},
   "outputs": [],
   "source": []
  }
 ],
 "metadata": {
  "kernelspec": {
   "display_name": "Python 3",
   "language": "python",
   "name": "python3"
  },
  "language_info": {
   "codemirror_mode": {
    "name": "ipython",
    "version": 3
   },
   "file_extension": ".py",
   "mimetype": "text/x-python",
   "name": "python",
   "nbconvert_exporter": "python",
   "pygments_lexer": "ipython3",
   "version": "3.6.8"
  }
 },
 "nbformat": 4,
 "nbformat_minor": 2
}
